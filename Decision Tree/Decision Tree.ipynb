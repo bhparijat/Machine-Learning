{
 "cells": [
  {
   "cell_type": "code",
   "execution_count": 1,
   "metadata": {},
   "outputs": [
    {
     "name": "stderr",
     "output_type": "stream",
     "text": [
      "UsageError: Line magic function `%matplotlib.inline` not found.\n"
     ]
    }
   ],
   "source": [
    "import numpy as np\n",
    "import pandas as pd\n",
    "import matplotlib.pyplot as plt\n",
    "%matplotlib.inline"
   ]
  },
  {
   "cell_type": "code",
   "execution_count": 7,
   "metadata": {},
   "outputs": [],
   "source": [
    "train_df = pd.read_csv('pa3_train_reduced.csv',names=[str(x) for x in range(101)],index_col=False)\n",
    "X = train_df.iloc[:,:]\n",
    "X[\"index\"] = np.array(range(X.shape[0]))[:np.newaxis]\n"
   ]
  },
  {
   "cell_type": "code",
   "execution_count": 8,
   "metadata": {},
   "outputs": [],
   "source": [
    "debug = 0"
   ]
  },
  {
   "cell_type": "code",
   "execution_count": 9,
   "metadata": {},
   "outputs": [
    {
     "data": {
      "text/plain": [
       "(4888, 102)"
      ]
     },
     "execution_count": 9,
     "metadata": {},
     "output_type": "execute_result"
    }
   ],
   "source": [
    "train_df.shape"
   ]
  },
  {
   "cell_type": "code",
   "execution_count": 10,
   "metadata": {},
   "outputs": [
    {
     "data": {
      "text/html": [
       "<div>\n",
       "<style scoped>\n",
       "    .dataframe tbody tr th:only-of-type {\n",
       "        vertical-align: middle;\n",
       "    }\n",
       "\n",
       "    .dataframe tbody tr th {\n",
       "        vertical-align: top;\n",
       "    }\n",
       "\n",
       "    .dataframe thead th {\n",
       "        text-align: right;\n",
       "    }\n",
       "</style>\n",
       "<table border=\"1\" class=\"dataframe\">\n",
       "  <thead>\n",
       "    <tr style=\"text-align: right;\">\n",
       "      <th></th>\n",
       "      <th>0</th>\n",
       "      <th>1</th>\n",
       "      <th>2</th>\n",
       "      <th>3</th>\n",
       "      <th>4</th>\n",
       "      <th>5</th>\n",
       "      <th>6</th>\n",
       "      <th>7</th>\n",
       "      <th>8</th>\n",
       "      <th>9</th>\n",
       "      <th>...</th>\n",
       "      <th>92</th>\n",
       "      <th>93</th>\n",
       "      <th>94</th>\n",
       "      <th>95</th>\n",
       "      <th>96</th>\n",
       "      <th>97</th>\n",
       "      <th>98</th>\n",
       "      <th>99</th>\n",
       "      <th>100</th>\n",
       "      <th>index</th>\n",
       "    </tr>\n",
       "  </thead>\n",
       "  <tbody>\n",
       "    <tr>\n",
       "      <th>0</th>\n",
       "      <td>5</td>\n",
       "      <td>-252.5092</td>\n",
       "      <td>1040.6188</td>\n",
       "      <td>-310.8433</td>\n",
       "      <td>-470.0898</td>\n",
       "      <td>-166.3477</td>\n",
       "      <td>330.8560</td>\n",
       "      <td>-108.7784</td>\n",
       "      <td>-175.5801</td>\n",
       "      <td>-260.2999</td>\n",
       "      <td>...</td>\n",
       "      <td>-141.7645</td>\n",
       "      <td>-78.5002</td>\n",
       "      <td>-49.8887</td>\n",
       "      <td>20.5103</td>\n",
       "      <td>-76.4562</td>\n",
       "      <td>-25.1281</td>\n",
       "      <td>-21.6094</td>\n",
       "      <td>-32.6020</td>\n",
       "      <td>25.6190</td>\n",
       "      <td>0</td>\n",
       "    </tr>\n",
       "    <tr>\n",
       "      <th>1</th>\n",
       "      <td>5</td>\n",
       "      <td>-684.5502</td>\n",
       "      <td>-368.7191</td>\n",
       "      <td>-288.2767</td>\n",
       "      <td>-429.0820</td>\n",
       "      <td>279.5500</td>\n",
       "      <td>277.4358</td>\n",
       "      <td>433.0551</td>\n",
       "      <td>324.3357</td>\n",
       "      <td>-244.7808</td>\n",
       "      <td>...</td>\n",
       "      <td>11.3478</td>\n",
       "      <td>-47.5631</td>\n",
       "      <td>-15.8404</td>\n",
       "      <td>25.0016</td>\n",
       "      <td>-29.7523</td>\n",
       "      <td>58.7726</td>\n",
       "      <td>-36.3467</td>\n",
       "      <td>26.6937</td>\n",
       "      <td>-17.5640</td>\n",
       "      <td>1</td>\n",
       "    </tr>\n",
       "    <tr>\n",
       "      <th>2</th>\n",
       "      <td>3</td>\n",
       "      <td>119.2934</td>\n",
       "      <td>638.9885</td>\n",
       "      <td>480.5071</td>\n",
       "      <td>-56.4139</td>\n",
       "      <td>268.1087</td>\n",
       "      <td>877.3390</td>\n",
       "      <td>144.2621</td>\n",
       "      <td>211.2293</td>\n",
       "      <td>-105.4375</td>\n",
       "      <td>...</td>\n",
       "      <td>31.8160</td>\n",
       "      <td>43.4647</td>\n",
       "      <td>29.9262</td>\n",
       "      <td>25.9335</td>\n",
       "      <td>37.2404</td>\n",
       "      <td>31.1867</td>\n",
       "      <td>14.7913</td>\n",
       "      <td>48.7926</td>\n",
       "      <td>-94.5664</td>\n",
       "      <td>2</td>\n",
       "    </tr>\n",
       "    <tr>\n",
       "      <th>3</th>\n",
       "      <td>5</td>\n",
       "      <td>992.5711</td>\n",
       "      <td>-204.1036</td>\n",
       "      <td>527.5170</td>\n",
       "      <td>-27.3539</td>\n",
       "      <td>-274.9326</td>\n",
       "      <td>-332.5300</td>\n",
       "      <td>-384.0204</td>\n",
       "      <td>198.4980</td>\n",
       "      <td>-92.0866</td>\n",
       "      <td>...</td>\n",
       "      <td>-16.4719</td>\n",
       "      <td>-103.3384</td>\n",
       "      <td>-15.5614</td>\n",
       "      <td>-71.7062</td>\n",
       "      <td>79.4549</td>\n",
       "      <td>-75.4443</td>\n",
       "      <td>-18.7221</td>\n",
       "      <td>76.8132</td>\n",
       "      <td>-11.6647</td>\n",
       "      <td>3</td>\n",
       "    </tr>\n",
       "    <tr>\n",
       "      <th>4</th>\n",
       "      <td>3</td>\n",
       "      <td>-750.9831</td>\n",
       "      <td>-11.7291</td>\n",
       "      <td>461.3095</td>\n",
       "      <td>128.3521</td>\n",
       "      <td>-335.1824</td>\n",
       "      <td>129.9351</td>\n",
       "      <td>191.3054</td>\n",
       "      <td>265.0773</td>\n",
       "      <td>265.4485</td>\n",
       "      <td>...</td>\n",
       "      <td>90.5645</td>\n",
       "      <td>-117.8963</td>\n",
       "      <td>78.7388</td>\n",
       "      <td>9.7614</td>\n",
       "      <td>-8.5616</td>\n",
       "      <td>-13.3530</td>\n",
       "      <td>-13.5420</td>\n",
       "      <td>-59.0314</td>\n",
       "      <td>-2.5690</td>\n",
       "      <td>4</td>\n",
       "    </tr>\n",
       "  </tbody>\n",
       "</table>\n",
       "<p>5 rows × 102 columns</p>\n",
       "</div>"
      ],
      "text/plain": [
       "   0         1          2         3         4         5         6         7  \\\n",
       "0  5 -252.5092  1040.6188 -310.8433 -470.0898 -166.3477  330.8560 -108.7784   \n",
       "1  5 -684.5502  -368.7191 -288.2767 -429.0820  279.5500  277.4358  433.0551   \n",
       "2  3  119.2934   638.9885  480.5071  -56.4139  268.1087  877.3390  144.2621   \n",
       "3  5  992.5711  -204.1036  527.5170  -27.3539 -274.9326 -332.5300 -384.0204   \n",
       "4  3 -750.9831   -11.7291  461.3095  128.3521 -335.1824  129.9351  191.3054   \n",
       "\n",
       "          8         9  ...          92        93       94       95       96  \\\n",
       "0 -175.5801 -260.2999  ...   -141.7645  -78.5002 -49.8887  20.5103 -76.4562   \n",
       "1  324.3357 -244.7808  ...     11.3478  -47.5631 -15.8404  25.0016 -29.7523   \n",
       "2  211.2293 -105.4375  ...     31.8160   43.4647  29.9262  25.9335  37.2404   \n",
       "3  198.4980  -92.0866  ...    -16.4719 -103.3384 -15.5614 -71.7062  79.4549   \n",
       "4  265.0773  265.4485  ...     90.5645 -117.8963  78.7388   9.7614  -8.5616   \n",
       "\n",
       "        97       98       99      100  index  \n",
       "0 -25.1281 -21.6094 -32.6020  25.6190      0  \n",
       "1  58.7726 -36.3467  26.6937 -17.5640      1  \n",
       "2  31.1867  14.7913  48.7926 -94.5664      2  \n",
       "3 -75.4443 -18.7221  76.8132 -11.6647      3  \n",
       "4 -13.3530 -13.5420 -59.0314  -2.5690      4  \n",
       "\n",
       "[5 rows x 102 columns]"
      ]
     },
     "execution_count": 10,
     "metadata": {},
     "output_type": "execute_result"
    }
   ],
   "source": [
    "X.head()"
   ]
  },
  {
   "cell_type": "code",
   "execution_count": 24,
   "metadata": {},
   "outputs": [],
   "source": [
    "class node:\n",
    "    def __init__(self):\n",
    "        self.left = None\n",
    "        self.right = None\n",
    "        self.feature = None\n",
    "        self.value = None\n",
    "        self.number = None\n",
    "        self.count = None\n",
    "        self.indices = None"
   ]
  },
  {
   "cell_type": "code",
   "execution_count": 25,
   "metadata": {},
   "outputs": [],
   "source": [
    "def calc_gini(k,total_count_3,total_count_5,till_now,x,UA):\n",
    "    last_k = till_now[0]\n",
    "    count_3_left = till_now[1]\n",
    "    count_5_left = till_now[2]\n",
    "    \n",
    "    extra_5 = sum(x['c_5'][last_k:k])\n",
    "    extra_3 = k-last_k - extra_5\n",
    "    \n",
    "    count_3_left += extra_3\n",
    "    count_5_left += extra_5\n",
    "    \n",
    "    count_3_right = total_count_3 - count_3_left\n",
    "    count_5_right = total_count_5 - count_5_left\n",
    "    \n",
    "    \n",
    "    if debug==1:\n",
    "        print(till_now,k)\n",
    "    \n",
    "    pa_3_left = count_3_left/(count_5_left+count_3_left)\n",
    "    pa_5_left = count_5_left/(count_5_left+count_3_left)\n",
    "    gini_left = 1-(pa_3_left*pa_3_left) - (pa_5_left*pa_5_left)\n",
    "    \n",
    "    pa_3_right = count_3_right/(count_5_right+count_3_right)\n",
    "    pa_5_right = count_5_right/(count_5_right+count_3_right)\n",
    "    gini_right = 1 -(pa_3_right*pa_3_right) - (pa_5_right*pa_5_right)\n",
    "    \n",
    "    prob_left = (count_3_left+count_5_left)/(total_count_3+total_count_5)\n",
    "    prob_right = (count_3_right+count_5_right)/(total_count_3+total_count_5)\n",
    "    \n",
    "    benefit = UA - prob_left*gini_left - prob_right*gini_right\n",
    "    if debug==1:\n",
    "        print(\"UA=\",UA,\"prob left=\",prob_left,\"gini_left=\",gini_left,\"prob_right=\",prob_right,\"gini_right=\",gini_right)\n",
    "        print(\"total_count_5\",\"total_count_3\",\"count_5_left\",\"count_3_left\",\"count_5_right\",\"count_3_right\")\n",
    "        print(total_count_5,total_count_3,count_5_left,count_3_left,count_5_right,count_3_right)\n",
    "    till_now[0] = k\n",
    "    till_now[1] = count_3_left\n",
    "    till_now[2] = count_5_left\n",
    "    \n",
    "    if debug==1:\n",
    "        print(till_now)\n",
    "    if(UA>1):\n",
    "        print(\"higher\",UA,benefit)\n",
    "    return benefit\n",
    "def find_best_split_for_feature(X,ind):\n",
    "    x = X[[\"0\",ind,\"index\"]].sort_values(by=ind)\n",
    "    x['x_index'] = range(x.shape[0])\n",
    "    x.index = range(x.shape[0])\n",
    "    total = x.shape[0]\n",
    "    \n",
    "   \n",
    "    \n",
    "    count_3 = x[\"0\"].value_counts().sort_values().loc[3]\n",
    "    count_5 = total - count_3\n",
    "    \n",
    "    if debug==1:\n",
    "        print(x.shape)\n",
    "        print(count_5,count_3)\n",
    "        print(x[\"0\"].value_counts().sort_values())\n",
    "    till_now = list((0,0,0))\n",
    "    \n",
    "    p_3 = count_3/total\n",
    "    p_5 = count_5/total\n",
    "    UA = 1-(p_3*p_3)-(p_5*p_5)\n",
    "    if debug ==1:\n",
    "        print(\"UA=\",UA)\n",
    "    \n",
    "    x['c_5'] = x[\"0\"].apply(lambda k : 1 if k==5 else 0)\n",
    "    if debug ==1:\n",
    "        print(x)\n",
    "        print(x[\"0\"].value_counts().sort_values())\n",
    "        print(count_3,count_5)\n",
    "        print(till_now)\n",
    "    x['gini'] = x['x_index'].apply(\n",
    "                lambda k : calc_gini(k,count_3,count_5,till_now,x,UA) if k!=0 and  x['c_5'][k-1]!=x['c_5'][k] else 0)\n",
    "    index_for_feature = x['gini'].idxmax()+1\n",
    "    left = x['index'][:index_for_feature]\n",
    "    right = x['index'][index_for_feature:]\n",
    "    if debug ==1:\n",
    "        print(x['gini'].value_counts())\n",
    "        print(x['gini'].max(),x['gini'].idxmax(),till_now[1],till_now[2])\n",
    "    return x['gini'].max(),left,right , x[ind][x['gini'].idxmax()]\n",
    "    #print(x['gini'])\n",
    "    #print(x.head(30))\n",
    "    "
   ]
  },
  {
   "cell_type": "code",
   "execution_count": 38,
   "metadata": {},
   "outputs": [],
   "source": [
    "import time\n",
    "def dfs(X):\n",
    "    \n",
    "    root = node()\n",
    "    root.left = node()\n",
    "    root.right = node()\n",
    "    left = None\n",
    "    right = None\n",
    "    gini = -1\n",
    "    feature = None\n",
    "    value = None\n",
    "    for k in range(1,100):\n",
    "        g,l,r,v = find_best_split_for_feature(X,str(k))\n",
    "        if g > gini:\n",
    "            left = l\n",
    "            right =  r\n",
    "            gini = g\n",
    "            feature = k\n",
    "            value=v\n",
    "        if((k%10)==0 and debug==1):\n",
    "            print(\"done for k=\",k/10)\n",
    "            \n",
    "    #print(len(left),len(right),feature,gini)\n",
    "    root.feature = feature\n",
    "    root.value = value\n",
    "    root.indices = X.index\n",
    "    root.number = None\n",
    "    if sum(X.loc[left]['0'].value_counts().index)==8:\n",
    "        #print(\"left called\")\n",
    "        root.left = dfs(X.loc[left])\n",
    "    else:\n",
    "        root.left.number = 5 if 3 not in X.loc[left]['0'].value_counts().index else 3\n",
    "        root.left.count = X.loc[left].shape[0]\n",
    "    if sum(X.loc[right]['0'].value_counts().index)==8:\n",
    "        #print(\"right called\")\n",
    "        root.right = dfs(X.loc[right])\n",
    "    else:\n",
    "        root.right.number = 5 if 3 not in X.loc[right]['0'].value_counts().index else 3\n",
    "        root.right.count = X.loc[right].shape[0]\n",
    "    return root"
   ]
  },
  {
   "cell_type": "code",
   "execution_count": 39,
   "metadata": {
    "scrolled": true
   },
   "outputs": [
    {
     "ename": "TypeError",
     "evalue": "dfs() missing 1 required positional argument: 'X'",
     "output_type": "error",
     "traceback": [
      "\u001b[1;31m---------------------------------------------------------------------------\u001b[0m",
      "\u001b[1;31mTypeError\u001b[0m                                 Traceback (most recent call last)",
      "\u001b[1;32m<ipython-input-39-1354bbb66592>\u001b[0m in \u001b[0;36m<module>\u001b[1;34m()\u001b[0m\n\u001b[0;32m      1\u001b[0m \u001b[1;32mimport\u001b[0m \u001b[0mtime\u001b[0m\u001b[1;33m\u001b[0m\u001b[0m\n\u001b[0;32m      2\u001b[0m \u001b[0ma\u001b[0m \u001b[1;33m=\u001b[0m \u001b[0mtime\u001b[0m\u001b[1;33m.\u001b[0m\u001b[0mclock\u001b[0m\u001b[1;33m(\u001b[0m\u001b[1;33m)\u001b[0m\u001b[1;33m\u001b[0m\u001b[0m\n\u001b[1;32m----> 3\u001b[1;33m \u001b[0mroot\u001b[0m\u001b[1;33m=\u001b[0m\u001b[0mdfs\u001b[0m\u001b[1;33m(\u001b[0m\u001b[0mX\u001b[0m\u001b[1;33m.\u001b[0m\u001b[0miloc\u001b[0m\u001b[1;33m[\u001b[0m\u001b[1;36m3000\u001b[0m\u001b[1;33m:\u001b[0m\u001b[1;33m,\u001b[0m\u001b[1;33m:\u001b[0m\u001b[1;33m]\u001b[0m\u001b[1;33m)\u001b[0m\u001b[1;33m\u001b[0m\u001b[0m\n\u001b[0m\u001b[0;32m      4\u001b[0m \u001b[0mprint\u001b[0m\u001b[1;33m(\u001b[0m\u001b[0mtime\u001b[0m\u001b[1;33m.\u001b[0m\u001b[0mclock\u001b[0m\u001b[1;33m(\u001b[0m\u001b[1;33m)\u001b[0m\u001b[1;33m-\u001b[0m\u001b[0ma\u001b[0m\u001b[1;33m)\u001b[0m\u001b[1;33m\u001b[0m\u001b[0m\n",
      "\u001b[1;31mTypeError\u001b[0m: dfs() missing 1 required positional argument: 'X'"
     ]
    }
   ],
   "source": [
    "import time\n",
    "a = time.clock()\n",
    "root=dfs(X.iloc[3000:,:],X)\n",
    "print(time.clock()-a)"
   ]
  },
  {
   "cell_type": "code",
   "execution_count": 35,
   "metadata": {},
   "outputs": [
    {
     "data": {
      "text/plain": [
       "8"
      ]
     },
     "execution_count": 35,
     "metadata": {},
     "output_type": "execute_result"
    }
   ],
   "source": [
    "sum(X['0'].value_counts().index)"
   ]
  },
  {
   "cell_type": "code",
   "execution_count": 36,
   "metadata": {},
   "outputs": [
    {
     "name": "stdout",
     "output_type": "stream",
     "text": [
      "1888\n"
     ]
    }
   ],
   "source": [
    "def find_depth(root):\n",
    "    if root.feature==None:\n",
    "        return root.count\n",
    "    else:\n",
    "        return find_depth(root.left)+find_depth(root.right)\n",
    "print(find_depth(root))"
   ]
  },
  {
   "cell_type": "code",
   "execution_count": 19,
   "metadata": {},
   "outputs": [
    {
     "name": "stdout",
     "output_type": "stream",
     "text": [
      "1.0\n"
     ]
    }
   ],
   "source": [
    "def calculate_accuracy(row,r=root):\n",
    "    if r.feature==None:\n",
    "        return r.count \n",
    "    if row[r.feature]<=r.value:\n",
    "        return calculate_accuracy(row,r.left)\n",
    "    else:\n",
    "        return calculate_accuracy(row,r.right)\n",
    "    \n",
    "#accuracy = X.apply(calculate_accuracy ,axis=1)\n",
    "accuracy = 0\n",
    "for k in range(X.shape[0]):\n",
    "    accuracy +=calculate_accuracy(X.iloc[k,:],root)\n",
    "print(accuracy/X.shape[0])"
   ]
  },
  {
   "cell_type": "code",
   "execution_count": 33,
   "metadata": {},
   "outputs": [
    {
     "data": {
      "text/plain": [
       "0.9684942716857611"
      ]
     },
     "execution_count": 33,
     "metadata": {},
     "output_type": "execute_result"
    }
   ],
   "source": [
    "np.mean(accuracy)"
   ]
  },
  {
   "cell_type": "code",
   "execution_count": 42,
   "metadata": {},
   "outputs": [
    {
     "data": {
      "text/html": [
       "<div>\n",
       "<style scoped>\n",
       "    .dataframe tbody tr th:only-of-type {\n",
       "        vertical-align: middle;\n",
       "    }\n",
       "\n",
       "    .dataframe tbody tr th {\n",
       "        vertical-align: top;\n",
       "    }\n",
       "\n",
       "    .dataframe thead th {\n",
       "        text-align: right;\n",
       "    }\n",
       "</style>\n",
       "<table border=\"1\" class=\"dataframe\">\n",
       "  <thead>\n",
       "    <tr style=\"text-align: right;\">\n",
       "      <th></th>\n",
       "      <th>0</th>\n",
       "      <th>1</th>\n",
       "      <th>2</th>\n",
       "      <th>3</th>\n",
       "      <th>4</th>\n",
       "      <th>5</th>\n",
       "      <th>6</th>\n",
       "      <th>7</th>\n",
       "      <th>8</th>\n",
       "      <th>9</th>\n",
       "      <th>...</th>\n",
       "      <th>92</th>\n",
       "      <th>93</th>\n",
       "      <th>94</th>\n",
       "      <th>95</th>\n",
       "      <th>96</th>\n",
       "      <th>97</th>\n",
       "      <th>98</th>\n",
       "      <th>99</th>\n",
       "      <th>100</th>\n",
       "      <th>index</th>\n",
       "    </tr>\n",
       "  </thead>\n",
       "  <tbody>\n",
       "    <tr>\n",
       "      <th>5</th>\n",
       "      <td>5</td>\n",
       "      <td>721.6589</td>\n",
       "      <td>-304.2447</td>\n",
       "      <td>864.9610</td>\n",
       "      <td>260.3393</td>\n",
       "      <td>-187.8024</td>\n",
       "      <td>-606.0203</td>\n",
       "      <td>88.1427</td>\n",
       "      <td>-153.2440</td>\n",
       "      <td>-46.0256</td>\n",
       "      <td>...</td>\n",
       "      <td>68.7016</td>\n",
       "      <td>59.6587</td>\n",
       "      <td>72.7935</td>\n",
       "      <td>62.4015</td>\n",
       "      <td>-11.3711</td>\n",
       "      <td>-83.8252</td>\n",
       "      <td>-22.4654</td>\n",
       "      <td>20.8556</td>\n",
       "      <td>-69.0412</td>\n",
       "      <td>5</td>\n",
       "    </tr>\n",
       "    <tr>\n",
       "      <th>6</th>\n",
       "      <td>5</td>\n",
       "      <td>583.1599</td>\n",
       "      <td>-153.0165</td>\n",
       "      <td>-900.8113</td>\n",
       "      <td>-290.6844</td>\n",
       "      <td>333.2730</td>\n",
       "      <td>-402.8474</td>\n",
       "      <td>-486.8830</td>\n",
       "      <td>389.7087</td>\n",
       "      <td>9.8926</td>\n",
       "      <td>...</td>\n",
       "      <td>11.2985</td>\n",
       "      <td>1.9106</td>\n",
       "      <td>-29.3527</td>\n",
       "      <td>20.5039</td>\n",
       "      <td>50.8934</td>\n",
       "      <td>-47.7642</td>\n",
       "      <td>-34.2638</td>\n",
       "      <td>59.8347</td>\n",
       "      <td>44.2944</td>\n",
       "      <td>6</td>\n",
       "    </tr>\n",
       "    <tr>\n",
       "      <th>7</th>\n",
       "      <td>5</td>\n",
       "      <td>972.0162</td>\n",
       "      <td>77.9232</td>\n",
       "      <td>-314.5349</td>\n",
       "      <td>-348.0400</td>\n",
       "      <td>35.6860</td>\n",
       "      <td>275.9531</td>\n",
       "      <td>-130.1125</td>\n",
       "      <td>214.4291</td>\n",
       "      <td>-308.0340</td>\n",
       "      <td>...</td>\n",
       "      <td>83.9535</td>\n",
       "      <td>-67.8575</td>\n",
       "      <td>-48.6127</td>\n",
       "      <td>-123.2136</td>\n",
       "      <td>22.5735</td>\n",
       "      <td>-56.7396</td>\n",
       "      <td>-35.5166</td>\n",
       "      <td>-16.6162</td>\n",
       "      <td>-43.1298</td>\n",
       "      <td>7</td>\n",
       "    </tr>\n",
       "    <tr>\n",
       "      <th>8</th>\n",
       "      <td>5</td>\n",
       "      <td>-255.5209</td>\n",
       "      <td>144.6523</td>\n",
       "      <td>-438.1271</td>\n",
       "      <td>-861.6966</td>\n",
       "      <td>613.9399</td>\n",
       "      <td>130.5816</td>\n",
       "      <td>291.0711</td>\n",
       "      <td>-405.3399</td>\n",
       "      <td>-39.0060</td>\n",
       "      <td>...</td>\n",
       "      <td>46.0839</td>\n",
       "      <td>-140.2752</td>\n",
       "      <td>42.9264</td>\n",
       "      <td>12.9228</td>\n",
       "      <td>-62.4800</td>\n",
       "      <td>-1.4205</td>\n",
       "      <td>75.5720</td>\n",
       "      <td>34.6369</td>\n",
       "      <td>24.2973</td>\n",
       "      <td>8</td>\n",
       "    </tr>\n",
       "    <tr>\n",
       "      <th>9</th>\n",
       "      <td>3</td>\n",
       "      <td>217.1434</td>\n",
       "      <td>592.4619</td>\n",
       "      <td>242.7806</td>\n",
       "      <td>658.7916</td>\n",
       "      <td>67.4887</td>\n",
       "      <td>228.3211</td>\n",
       "      <td>308.6035</td>\n",
       "      <td>120.0588</td>\n",
       "      <td>73.0003</td>\n",
       "      <td>...</td>\n",
       "      <td>-41.0147</td>\n",
       "      <td>50.1359</td>\n",
       "      <td>-65.1648</td>\n",
       "      <td>43.4451</td>\n",
       "      <td>-19.7029</td>\n",
       "      <td>-11.5231</td>\n",
       "      <td>-25.7318</td>\n",
       "      <td>55.1806</td>\n",
       "      <td>4.9309</td>\n",
       "      <td>9</td>\n",
       "    </tr>\n",
       "  </tbody>\n",
       "</table>\n",
       "<p>5 rows × 102 columns</p>\n",
       "</div>"
      ],
      "text/plain": [
       "   0         1         2         3         4         5         6         7  \\\n",
       "5  5  721.6589 -304.2447  864.9610  260.3393 -187.8024 -606.0203   88.1427   \n",
       "6  5  583.1599 -153.0165 -900.8113 -290.6844  333.2730 -402.8474 -486.8830   \n",
       "7  5  972.0162   77.9232 -314.5349 -348.0400   35.6860  275.9531 -130.1125   \n",
       "8  5 -255.5209  144.6523 -438.1271 -861.6966  613.9399  130.5816  291.0711   \n",
       "9  3  217.1434  592.4619  242.7806  658.7916   67.4887  228.3211  308.6035   \n",
       "\n",
       "          8         9  ...         92        93       94        95       96  \\\n",
       "5 -153.2440  -46.0256  ...    68.7016   59.6587  72.7935   62.4015 -11.3711   \n",
       "6  389.7087    9.8926  ...    11.2985    1.9106 -29.3527   20.5039  50.8934   \n",
       "7  214.4291 -308.0340  ...    83.9535  -67.8575 -48.6127 -123.2136  22.5735   \n",
       "8 -405.3399  -39.0060  ...    46.0839 -140.2752  42.9264   12.9228 -62.4800   \n",
       "9  120.0588   73.0003  ...   -41.0147   50.1359 -65.1648   43.4451 -19.7029   \n",
       "\n",
       "        97       98       99      100  index  \n",
       "5 -83.8252 -22.4654  20.8556 -69.0412      5  \n",
       "6 -47.7642 -34.2638  59.8347  44.2944      6  \n",
       "7 -56.7396 -35.5166 -16.6162 -43.1298      7  \n",
       "8  -1.4205  75.5720  34.6369  24.2973      8  \n",
       "9 -11.5231 -25.7318  55.1806   4.9309      9  \n",
       "\n",
       "[5 rows x 102 columns]"
      ]
     },
     "execution_count": 42,
     "metadata": {},
     "output_type": "execute_result"
    }
   ],
   "source": [
    "X.loc[range(5,10)].head()"
   ]
  },
  {
   "cell_type": "code",
   "execution_count": 50,
   "metadata": {},
   "outputs": [
    {
     "data": {
      "text/plain": [
       "6"
      ]
     },
     "execution_count": 50,
     "metadata": {},
     "output_type": "execute_result"
    }
   ],
   "source": [
    "pd.Series(data=np.array([0,1,1,1,2,3,3])).iloc[::-1].idxmax()"
   ]
  },
  {
   "cell_type": "code",
   "execution_count": 52,
   "metadata": {},
   "outputs": [
    {
     "data": {
      "text/plain": [
       "array([1, 2, 3, 4, 5, 6, 7, 8, 9])"
      ]
     },
     "execution_count": 52,
     "metadata": {},
     "output_type": "execute_result"
    }
   ],
   "source": [
    "np.array(range(1,10))[:10]"
   ]
  },
  {
   "cell_type": "code",
   "execution_count": null,
   "metadata": {},
   "outputs": [],
   "source": []
  }
 ],
 "metadata": {
  "kernelspec": {
   "display_name": "Python 3",
   "language": "python",
   "name": "python3"
  },
  "language_info": {
   "codemirror_mode": {
    "name": "ipython",
    "version": 3
   },
   "file_extension": ".py",
   "mimetype": "text/x-python",
   "name": "python",
   "nbconvert_exporter": "python",
   "pygments_lexer": "ipython3",
   "version": "3.6.5"
  }
 },
 "nbformat": 4,
 "nbformat_minor": 2
}
