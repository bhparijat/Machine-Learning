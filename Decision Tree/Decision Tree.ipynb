{
 "cells": [
  {
   "cell_type": "code",
   "execution_count": 1,
   "metadata": {},
   "outputs": [
    {
     "name": "stderr",
     "output_type": "stream",
     "text": [
      "UsageError: Line magic function `%matplotlib.inline` not found.\n"
     ]
    }
   ],
   "source": [
    "import numpy as np\n",
    "import pandas as pd\n",
    "import matplotlib.pyplot as plt\n",
    "%matplotlib.inline"
   ]
  },
  {
   "cell_type": "code",
   "execution_count": 2,
   "metadata": {},
   "outputs": [],
   "source": [
    "train_df = pd.read_csv('pa3_train_reduced.csv',names=[str(x) for x in range(101)],index_col=False)\n",
    "X = train_df.iloc[:,:]\n",
    "X[\"index\"] = np.array(range(X.shape[0]))[:np.newaxis]\n"
   ]
  },
  {
   "cell_type": "code",
   "execution_count": 3,
   "metadata": {},
   "outputs": [],
   "source": [
    "debug = 0"
   ]
  },
  {
   "cell_type": "code",
   "execution_count": 4,
   "metadata": {},
   "outputs": [
    {
     "data": {
      "text/plain": [
       "(4888, 102)"
      ]
     },
     "execution_count": 4,
     "metadata": {},
     "output_type": "execute_result"
    }
   ],
   "source": [
    "train_df.shape"
   ]
  },
  {
   "cell_type": "code",
   "execution_count": 5,
   "metadata": {},
   "outputs": [
    {
     "data": {
      "text/html": [
       "<div>\n",
       "<style scoped>\n",
       "    .dataframe tbody tr th:only-of-type {\n",
       "        vertical-align: middle;\n",
       "    }\n",
       "\n",
       "    .dataframe tbody tr th {\n",
       "        vertical-align: top;\n",
       "    }\n",
       "\n",
       "    .dataframe thead th {\n",
       "        text-align: right;\n",
       "    }\n",
       "</style>\n",
       "<table border=\"1\" class=\"dataframe\">\n",
       "  <thead>\n",
       "    <tr style=\"text-align: right;\">\n",
       "      <th></th>\n",
       "      <th>0</th>\n",
       "      <th>1</th>\n",
       "      <th>2</th>\n",
       "      <th>3</th>\n",
       "      <th>4</th>\n",
       "      <th>5</th>\n",
       "      <th>6</th>\n",
       "      <th>7</th>\n",
       "      <th>8</th>\n",
       "      <th>9</th>\n",
       "      <th>...</th>\n",
       "      <th>92</th>\n",
       "      <th>93</th>\n",
       "      <th>94</th>\n",
       "      <th>95</th>\n",
       "      <th>96</th>\n",
       "      <th>97</th>\n",
       "      <th>98</th>\n",
       "      <th>99</th>\n",
       "      <th>100</th>\n",
       "      <th>index</th>\n",
       "    </tr>\n",
       "  </thead>\n",
       "  <tbody>\n",
       "    <tr>\n",
       "      <th>0</th>\n",
       "      <td>5</td>\n",
       "      <td>-252.5092</td>\n",
       "      <td>1040.6188</td>\n",
       "      <td>-310.8433</td>\n",
       "      <td>-470.0898</td>\n",
       "      <td>-166.3477</td>\n",
       "      <td>330.8560</td>\n",
       "      <td>-108.7784</td>\n",
       "      <td>-175.5801</td>\n",
       "      <td>-260.2999</td>\n",
       "      <td>...</td>\n",
       "      <td>-141.7645</td>\n",
       "      <td>-78.5002</td>\n",
       "      <td>-49.8887</td>\n",
       "      <td>20.5103</td>\n",
       "      <td>-76.4562</td>\n",
       "      <td>-25.1281</td>\n",
       "      <td>-21.6094</td>\n",
       "      <td>-32.6020</td>\n",
       "      <td>25.6190</td>\n",
       "      <td>0</td>\n",
       "    </tr>\n",
       "    <tr>\n",
       "      <th>1</th>\n",
       "      <td>5</td>\n",
       "      <td>-684.5502</td>\n",
       "      <td>-368.7191</td>\n",
       "      <td>-288.2767</td>\n",
       "      <td>-429.0820</td>\n",
       "      <td>279.5500</td>\n",
       "      <td>277.4358</td>\n",
       "      <td>433.0551</td>\n",
       "      <td>324.3357</td>\n",
       "      <td>-244.7808</td>\n",
       "      <td>...</td>\n",
       "      <td>11.3478</td>\n",
       "      <td>-47.5631</td>\n",
       "      <td>-15.8404</td>\n",
       "      <td>25.0016</td>\n",
       "      <td>-29.7523</td>\n",
       "      <td>58.7726</td>\n",
       "      <td>-36.3467</td>\n",
       "      <td>26.6937</td>\n",
       "      <td>-17.5640</td>\n",
       "      <td>1</td>\n",
       "    </tr>\n",
       "    <tr>\n",
       "      <th>2</th>\n",
       "      <td>3</td>\n",
       "      <td>119.2934</td>\n",
       "      <td>638.9885</td>\n",
       "      <td>480.5071</td>\n",
       "      <td>-56.4139</td>\n",
       "      <td>268.1087</td>\n",
       "      <td>877.3390</td>\n",
       "      <td>144.2621</td>\n",
       "      <td>211.2293</td>\n",
       "      <td>-105.4375</td>\n",
       "      <td>...</td>\n",
       "      <td>31.8160</td>\n",
       "      <td>43.4647</td>\n",
       "      <td>29.9262</td>\n",
       "      <td>25.9335</td>\n",
       "      <td>37.2404</td>\n",
       "      <td>31.1867</td>\n",
       "      <td>14.7913</td>\n",
       "      <td>48.7926</td>\n",
       "      <td>-94.5664</td>\n",
       "      <td>2</td>\n",
       "    </tr>\n",
       "    <tr>\n",
       "      <th>3</th>\n",
       "      <td>5</td>\n",
       "      <td>992.5711</td>\n",
       "      <td>-204.1036</td>\n",
       "      <td>527.5170</td>\n",
       "      <td>-27.3539</td>\n",
       "      <td>-274.9326</td>\n",
       "      <td>-332.5300</td>\n",
       "      <td>-384.0204</td>\n",
       "      <td>198.4980</td>\n",
       "      <td>-92.0866</td>\n",
       "      <td>...</td>\n",
       "      <td>-16.4719</td>\n",
       "      <td>-103.3384</td>\n",
       "      <td>-15.5614</td>\n",
       "      <td>-71.7062</td>\n",
       "      <td>79.4549</td>\n",
       "      <td>-75.4443</td>\n",
       "      <td>-18.7221</td>\n",
       "      <td>76.8132</td>\n",
       "      <td>-11.6647</td>\n",
       "      <td>3</td>\n",
       "    </tr>\n",
       "    <tr>\n",
       "      <th>4</th>\n",
       "      <td>3</td>\n",
       "      <td>-750.9831</td>\n",
       "      <td>-11.7291</td>\n",
       "      <td>461.3095</td>\n",
       "      <td>128.3521</td>\n",
       "      <td>-335.1824</td>\n",
       "      <td>129.9351</td>\n",
       "      <td>191.3054</td>\n",
       "      <td>265.0773</td>\n",
       "      <td>265.4485</td>\n",
       "      <td>...</td>\n",
       "      <td>90.5645</td>\n",
       "      <td>-117.8963</td>\n",
       "      <td>78.7388</td>\n",
       "      <td>9.7614</td>\n",
       "      <td>-8.5616</td>\n",
       "      <td>-13.3530</td>\n",
       "      <td>-13.5420</td>\n",
       "      <td>-59.0314</td>\n",
       "      <td>-2.5690</td>\n",
       "      <td>4</td>\n",
       "    </tr>\n",
       "  </tbody>\n",
       "</table>\n",
       "<p>5 rows × 102 columns</p>\n",
       "</div>"
      ],
      "text/plain": [
       "   0         1          2         3         4         5         6         7  \\\n",
       "0  5 -252.5092  1040.6188 -310.8433 -470.0898 -166.3477  330.8560 -108.7784   \n",
       "1  5 -684.5502  -368.7191 -288.2767 -429.0820  279.5500  277.4358  433.0551   \n",
       "2  3  119.2934   638.9885  480.5071  -56.4139  268.1087  877.3390  144.2621   \n",
       "3  5  992.5711  -204.1036  527.5170  -27.3539 -274.9326 -332.5300 -384.0204   \n",
       "4  3 -750.9831   -11.7291  461.3095  128.3521 -335.1824  129.9351  191.3054   \n",
       "\n",
       "          8         9  ...          92        93       94       95       96  \\\n",
       "0 -175.5801 -260.2999  ...   -141.7645  -78.5002 -49.8887  20.5103 -76.4562   \n",
       "1  324.3357 -244.7808  ...     11.3478  -47.5631 -15.8404  25.0016 -29.7523   \n",
       "2  211.2293 -105.4375  ...     31.8160   43.4647  29.9262  25.9335  37.2404   \n",
       "3  198.4980  -92.0866  ...    -16.4719 -103.3384 -15.5614 -71.7062  79.4549   \n",
       "4  265.0773  265.4485  ...     90.5645 -117.8963  78.7388   9.7614  -8.5616   \n",
       "\n",
       "        97       98       99      100  index  \n",
       "0 -25.1281 -21.6094 -32.6020  25.6190      0  \n",
       "1  58.7726 -36.3467  26.6937 -17.5640      1  \n",
       "2  31.1867  14.7913  48.7926 -94.5664      2  \n",
       "3 -75.4443 -18.7221  76.8132 -11.6647      3  \n",
       "4 -13.3530 -13.5420 -59.0314  -2.5690      4  \n",
       "\n",
       "[5 rows x 102 columns]"
      ]
     },
     "execution_count": 5,
     "metadata": {},
     "output_type": "execute_result"
    }
   ],
   "source": [
    "X.head()"
   ]
  },
  {
   "cell_type": "code",
   "execution_count": 6,
   "metadata": {},
   "outputs": [],
   "source": [
    "class node:\n",
    "    def __init__(self):\n",
    "        self.left = None\n",
    "        self.right = None\n",
    "        self.feature = None\n",
    "        self.value = None\n",
    "        self.number = None\n",
    "        self.count = None\n",
    "        self.count_3 = None\n",
    "        self.count_5 = None\n",
    "        #self.indices = None"
   ]
  },
  {
   "cell_type": "code",
   "execution_count": 7,
   "metadata": {},
   "outputs": [],
   "source": [
    "def calc_gini(k,total_count_3,total_count_5,till_now,x,UA):\n",
    "    last_k = till_now[0]\n",
    "    count_3_left = till_now[1]\n",
    "    count_5_left = till_now[2]\n",
    "    \n",
    "    extra_5 = sum(x['c_5'][last_k:k])\n",
    "    extra_3 = k-last_k - extra_5\n",
    "    \n",
    "    count_3_left += extra_3\n",
    "    count_5_left += extra_5\n",
    "    \n",
    "    count_3_right = total_count_3 - count_3_left\n",
    "    count_5_right = total_count_5 - count_5_left\n",
    "    \n",
    "    \n",
    "    if debug==1:\n",
    "        print(till_now,k)\n",
    "    \n",
    "    pa_3_left = count_3_left/(count_5_left+count_3_left)\n",
    "    pa_5_left = count_5_left/(count_5_left+count_3_left)\n",
    "    gini_left = 1-(pa_3_left*pa_3_left) - (pa_5_left*pa_5_left)\n",
    "    \n",
    "    pa_3_right = count_3_right/(count_5_right+count_3_right)\n",
    "    pa_5_right = count_5_right/(count_5_right+count_3_right)\n",
    "    gini_right = 1 -(pa_3_right*pa_3_right) - (pa_5_right*pa_5_right)\n",
    "    \n",
    "    prob_left = (count_3_left+count_5_left)/(total_count_3+total_count_5)\n",
    "    prob_right = (count_3_right+count_5_right)/(total_count_3+total_count_5)\n",
    "    \n",
    "    benefit = UA - prob_left*gini_left - prob_right*gini_right\n",
    "    if debug==1:\n",
    "        print(\"UA=\",UA,\"prob left=\",prob_left,\"gini_left=\",gini_left,\"prob_right=\",prob_right,\"gini_right=\",gini_right)\n",
    "        print(\"total_count_5\",\"total_count_3\",\"count_5_left\",\"count_3_left\",\"count_5_right\",\"count_3_right\")\n",
    "        print(total_count_5,total_count_3,count_5_left,count_3_left,count_5_right,count_3_right)\n",
    "    till_now[0] = k\n",
    "    till_now[1] = count_3_left\n",
    "    till_now[2] = count_5_left\n",
    "    \n",
    "    if debug==1:\n",
    "        print(till_now)\n",
    "    if(UA>1):\n",
    "        print(\"higher\",UA,benefit)\n",
    "    return benefit\n",
    "def find_best_split_for_feature(X,ind):\n",
    "    x = X[[\"0\",ind,\"index\"]].sort_values(by=ind)\n",
    "    x['x_index'] = range(x.shape[0])\n",
    "    x.index = range(x.shape[0])\n",
    "    total = x.shape[0]\n",
    "    \n",
    "   \n",
    "    \n",
    "    count_3 = x[\"0\"].value_counts().sort_values().loc[3]\n",
    "    count_5 = total - count_3\n",
    "    \n",
    "    if debug==1:\n",
    "        print(x.shape)\n",
    "        print(count_5,count_3)\n",
    "        print(x[\"0\"].value_counts().sort_values())\n",
    "    till_now = list((0,0,0))\n",
    "    \n",
    "    p_3 = count_3/total\n",
    "    p_5 = count_5/total\n",
    "    UA = 1-(p_3*p_3)-(p_5*p_5)\n",
    "    if debug ==1:\n",
    "        print(\"UA=\",UA)\n",
    "    \n",
    "    x['c_5'] = x[\"0\"].apply(lambda k : 1 if k==5 else 0)\n",
    "    if debug ==1:\n",
    "        print(x)\n",
    "        print(x[\"0\"].value_counts().sort_values())\n",
    "        print(count_3,count_5)\n",
    "        print(till_now)\n",
    "    x['gini'] = x['x_index'].apply(\n",
    "                lambda k : calc_gini(k,count_3,count_5,till_now,x,UA) if k!=0 and  x['c_5'][k-1]!=x['c_5'][k] else 0)\n",
    "    index_for_feature = x['gini'].idxmax()\n",
    "    left = x['index'][:index_for_feature]\n",
    "    right = x['index'][index_for_feature:]\n",
    "    if debug ==1:\n",
    "        print(x['gini'].value_counts())\n",
    "        print(x['gini'].max(),x['gini'].idxmax(),till_now[1],till_now[2])\n",
    "    return x['gini'][index_for_feature],left,right , x[ind][index_for_feature]\n",
    "    #print(x['gini'])\n",
    "    #print(x.head(30))\n",
    "    "
   ]
  },
  {
   "cell_type": "code",
   "execution_count": 8,
   "metadata": {},
   "outputs": [],
   "source": [
    "import time\n",
    "def dfs(X):\n",
    "    \n",
    "    root = node()\n",
    "    root.left = node()\n",
    "    root.right = node()\n",
    "    root.count_3 = X['0'].value_counts().loc[3]\n",
    "    root.count_5 = X.shape[0] - root.count_3\n",
    "    left = None\n",
    "    right = None\n",
    "    gini = -1\n",
    "    feature = None\n",
    "    value = None\n",
    "    for k in range(1,100):\n",
    "        g,l,r,v = find_best_split_for_feature(X,str(k))\n",
    "        if g > gini:\n",
    "            left = l\n",
    "            right =  r\n",
    "            gini = g\n",
    "            feature = k\n",
    "            value=v\n",
    "        if((k%10)==0 and debug==1):\n",
    "            print(\"done for k=\",k/10)\n",
    "            \n",
    "    #print(len(left),len(right),feature,gini)\n",
    "    root.feature = feature\n",
    "    root.value = value\n",
    "    X_left = X.loc[left]\n",
    "    X_right = X.loc[right]\n",
    "    L = X_left['0'].value_counts() \n",
    "    R = X_right['0'].value_counts()\n",
    "    \n",
    "    root.number = None\n",
    "    if sum(L.index)==8:\n",
    "        \n",
    "        root.left = dfs(X_left)\n",
    "        \n",
    "    else:\n",
    "        \n",
    "        root.left.number = 5 if 3 not in L.index else 3\n",
    "        root.left.count = X_left.shape[0]\n",
    "        root.left.count_3 = L.loc[3] if 3 in L.index else 0\n",
    "        root.left.count_5 = L.loc[5] if 5 in L.index else 0\n",
    "        \n",
    "    if sum(R.index)==8:\n",
    "       \n",
    "        root.right = dfs(X_right)\n",
    "        \n",
    "    else:\n",
    "        \n",
    "        root.right.number = 5 if 3 not in R.index else 3\n",
    "        root.right.count = X_right.shape[0]\n",
    "        root.right.count_3 = R.loc[3] if 3 in R.index else 0\n",
    "        root.right.count_5 = R.loc[5] if 5 in R.index else 0\n",
    "        \n",
    "    return root"
   ]
  },
  {
   "cell_type": "code",
   "execution_count": 9,
   "metadata": {
    "scrolled": true
   },
   "outputs": [
    {
     "name": "stdout",
     "output_type": "stream",
     "text": [
      "897.3372125246511\n"
     ]
    }
   ],
   "source": [
    "import time\n",
    "a = time.clock()\n",
    "root=dfs(X)\n",
    "print(time.clock()-a)"
   ]
  },
  {
   "cell_type": "code",
   "execution_count": 10,
   "metadata": {},
   "outputs": [
    {
     "data": {
      "text/plain": [
       "8"
      ]
     },
     "execution_count": 10,
     "metadata": {},
     "output_type": "execute_result"
    }
   ],
   "source": [
    "sum(X['0'].value_counts().index)"
   ]
  },
  {
   "cell_type": "code",
   "execution_count": 11,
   "metadata": {},
   "outputs": [
    {
     "name": "stdout",
     "output_type": "stream",
     "text": [
      "17\n"
     ]
    }
   ],
   "source": [
    "def find_depth(root):\n",
    "    if root.feature==None:\n",
    "        return 0\n",
    "    else:\n",
    "        return max(find_depth(root.left),find_depth(root.right))+1\n",
    "print(find_depth(root))"
   ]
  },
  {
   "cell_type": "code",
   "execution_count": 22,
   "metadata": {},
   "outputs": [
    {
     "name": "stdout",
     "output_type": "stream",
     "text": [
      "4887\n",
      "0.9997954173486089\n"
     ]
    }
   ],
   "source": [
    "def calculate_accuracy(row,d,r,max_depth):\n",
    "    if d==max_depth:\n",
    "        cls = 3 if r.count_3>r.count_5 else 5\n",
    "        return 1 if row['0']==cls else 0\n",
    "    if r.feature==None:\n",
    "        return 1 if r.number == row['0'] else 0\n",
    "    \n",
    "    if row[r.feature]<r.value:\n",
    "        return calculate_accuracy(row,d+1,r.left,max_depth)\n",
    "    else:\n",
    "        return calculate_accuracy(row,d+1,r.right,max_depth)\n",
    "    \n",
    "#accuracy = X.apply(calculate_accuracy ,axis=1)\n",
    "accuracy = 0\n",
    "for k in range(X.shape[0]):\n",
    "    accuracy +=calculate_accuracy(X.iloc[k,:],0,root,16)\n",
    "print(accuracy)\n",
    "print(accuracy/X.shape[0])"
   ]
  },
  {
   "cell_type": "code",
   "execution_count": 27,
   "metadata": {},
   "outputs": [],
   "source": [
    "valid_df = pd.read_csv('pa3_valid_reduced.csv',names=[str(x) for x in range(101)],index_col=False)\n",
    "val_X = valid_df.iloc[:,:]\n",
    "\n"
   ]
  },
  {
   "cell_type": "code",
   "execution_count": 29,
   "metadata": {},
   "outputs": [
    {
     "data": {
      "text/html": [
       "<div>\n",
       "<style scoped>\n",
       "    .dataframe tbody tr th:only-of-type {\n",
       "        vertical-align: middle;\n",
       "    }\n",
       "\n",
       "    .dataframe tbody tr th {\n",
       "        vertical-align: top;\n",
       "    }\n",
       "\n",
       "    .dataframe thead th {\n",
       "        text-align: right;\n",
       "    }\n",
       "</style>\n",
       "<table border=\"1\" class=\"dataframe\">\n",
       "  <thead>\n",
       "    <tr style=\"text-align: right;\">\n",
       "      <th></th>\n",
       "      <th>0</th>\n",
       "      <th>1</th>\n",
       "      <th>2</th>\n",
       "      <th>3</th>\n",
       "      <th>4</th>\n",
       "      <th>5</th>\n",
       "      <th>6</th>\n",
       "      <th>7</th>\n",
       "      <th>8</th>\n",
       "      <th>9</th>\n",
       "      <th>...</th>\n",
       "      <th>91</th>\n",
       "      <th>92</th>\n",
       "      <th>93</th>\n",
       "      <th>94</th>\n",
       "      <th>95</th>\n",
       "      <th>96</th>\n",
       "      <th>97</th>\n",
       "      <th>98</th>\n",
       "      <th>99</th>\n",
       "      <th>100</th>\n",
       "    </tr>\n",
       "  </thead>\n",
       "  <tbody>\n",
       "    <tr>\n",
       "      <th>0</th>\n",
       "      <td>5</td>\n",
       "      <td>772.1564</td>\n",
       "      <td>594.2686</td>\n",
       "      <td>99.9710</td>\n",
       "      <td>-676.2918</td>\n",
       "      <td>-90.0010</td>\n",
       "      <td>206.3271</td>\n",
       "      <td>-11.5424</td>\n",
       "      <td>-267.0666</td>\n",
       "      <td>-396.1290</td>\n",
       "      <td>...</td>\n",
       "      <td>-33.1565</td>\n",
       "      <td>47.5868</td>\n",
       "      <td>-43.3703</td>\n",
       "      <td>-41.4258</td>\n",
       "      <td>-20.5521</td>\n",
       "      <td>17.8180</td>\n",
       "      <td>-42.2400</td>\n",
       "      <td>-24.5414</td>\n",
       "      <td>-10.3573</td>\n",
       "      <td>-29.5430</td>\n",
       "    </tr>\n",
       "    <tr>\n",
       "      <th>1</th>\n",
       "      <td>5</td>\n",
       "      <td>76.7211</td>\n",
       "      <td>-1106.0831</td>\n",
       "      <td>-29.7846</td>\n",
       "      <td>-747.6476</td>\n",
       "      <td>-287.8957</td>\n",
       "      <td>-297.5735</td>\n",
       "      <td>319.3065</td>\n",
       "      <td>-109.8892</td>\n",
       "      <td>231.0944</td>\n",
       "      <td>...</td>\n",
       "      <td>-80.3236</td>\n",
       "      <td>88.4407</td>\n",
       "      <td>-51.6162</td>\n",
       "      <td>115.9922</td>\n",
       "      <td>125.8303</td>\n",
       "      <td>-24.4752</td>\n",
       "      <td>33.8021</td>\n",
       "      <td>159.0301</td>\n",
       "      <td>-43.1058</td>\n",
       "      <td>7.5995</td>\n",
       "    </tr>\n",
       "    <tr>\n",
       "      <th>2</th>\n",
       "      <td>5</td>\n",
       "      <td>429.3979</td>\n",
       "      <td>-905.2265</td>\n",
       "      <td>-614.4940</td>\n",
       "      <td>-109.9827</td>\n",
       "      <td>-146.0062</td>\n",
       "      <td>-117.9901</td>\n",
       "      <td>182.1199</td>\n",
       "      <td>-71.3458</td>\n",
       "      <td>566.5455</td>\n",
       "      <td>...</td>\n",
       "      <td>-37.2232</td>\n",
       "      <td>-92.2027</td>\n",
       "      <td>-17.1015</td>\n",
       "      <td>68.7367</td>\n",
       "      <td>44.1911</td>\n",
       "      <td>56.8847</td>\n",
       "      <td>-23.0728</td>\n",
       "      <td>-76.8863</td>\n",
       "      <td>-11.9458</td>\n",
       "      <td>-42.9588</td>\n",
       "    </tr>\n",
       "    <tr>\n",
       "      <th>3</th>\n",
       "      <td>5</td>\n",
       "      <td>586.4843</td>\n",
       "      <td>-544.0520</td>\n",
       "      <td>-890.3127</td>\n",
       "      <td>-138.1357</td>\n",
       "      <td>-172.0075</td>\n",
       "      <td>-103.9851</td>\n",
       "      <td>-506.5991</td>\n",
       "      <td>144.8151</td>\n",
       "      <td>-75.8075</td>\n",
       "      <td>...</td>\n",
       "      <td>33.0657</td>\n",
       "      <td>38.5038</td>\n",
       "      <td>14.2699</td>\n",
       "      <td>-159.4892</td>\n",
       "      <td>-12.5872</td>\n",
       "      <td>37.4185</td>\n",
       "      <td>-44.0055</td>\n",
       "      <td>-49.6762</td>\n",
       "      <td>16.4211</td>\n",
       "      <td>64.4715</td>\n",
       "    </tr>\n",
       "    <tr>\n",
       "      <th>4</th>\n",
       "      <td>3</td>\n",
       "      <td>223.6410</td>\n",
       "      <td>676.9856</td>\n",
       "      <td>-8.6808</td>\n",
       "      <td>116.7774</td>\n",
       "      <td>310.5443</td>\n",
       "      <td>775.8125</td>\n",
       "      <td>-61.4416</td>\n",
       "      <td>476.6346</td>\n",
       "      <td>44.6428</td>\n",
       "      <td>...</td>\n",
       "      <td>41.8437</td>\n",
       "      <td>-45.3246</td>\n",
       "      <td>42.4549</td>\n",
       "      <td>-7.3443</td>\n",
       "      <td>-0.8938</td>\n",
       "      <td>19.0755</td>\n",
       "      <td>79.6127</td>\n",
       "      <td>-19.7164</td>\n",
       "      <td>-21.8841</td>\n",
       "      <td>4.5540</td>\n",
       "    </tr>\n",
       "  </tbody>\n",
       "</table>\n",
       "<p>5 rows × 101 columns</p>\n",
       "</div>"
      ],
      "text/plain": [
       "   0         1          2         3         4         5         6         7  \\\n",
       "0  5  772.1564   594.2686   99.9710 -676.2918  -90.0010  206.3271  -11.5424   \n",
       "1  5   76.7211 -1106.0831  -29.7846 -747.6476 -287.8957 -297.5735  319.3065   \n",
       "2  5  429.3979  -905.2265 -614.4940 -109.9827 -146.0062 -117.9901  182.1199   \n",
       "3  5  586.4843  -544.0520 -890.3127 -138.1357 -172.0075 -103.9851 -506.5991   \n",
       "4  3  223.6410   676.9856   -8.6808  116.7774  310.5443  775.8125  -61.4416   \n",
       "\n",
       "          8         9   ...          91       92       93        94        95  \\\n",
       "0 -267.0666 -396.1290   ...    -33.1565  47.5868 -43.3703  -41.4258  -20.5521   \n",
       "1 -109.8892  231.0944   ...    -80.3236  88.4407 -51.6162  115.9922  125.8303   \n",
       "2  -71.3458  566.5455   ...    -37.2232 -92.2027 -17.1015   68.7367   44.1911   \n",
       "3  144.8151  -75.8075   ...     33.0657  38.5038  14.2699 -159.4892  -12.5872   \n",
       "4  476.6346   44.6428   ...     41.8437 -45.3246  42.4549   -7.3443   -0.8938   \n",
       "\n",
       "        96       97        98       99      100  \n",
       "0  17.8180 -42.2400  -24.5414 -10.3573 -29.5430  \n",
       "1 -24.4752  33.8021  159.0301 -43.1058   7.5995  \n",
       "2  56.8847 -23.0728  -76.8863 -11.9458 -42.9588  \n",
       "3  37.4185 -44.0055  -49.6762  16.4211  64.4715  \n",
       "4  19.0755  79.6127  -19.7164 -21.8841   4.5540  \n",
       "\n",
       "[5 rows x 101 columns]"
      ]
     },
     "execution_count": 29,
     "metadata": {},
     "output_type": "execute_result"
    }
   ],
   "source": [
    "val_X.head()"
   ]
  },
  {
   "cell_type": "code",
   "execution_count": 15,
   "metadata": {},
   "outputs": [
    {
     "name": "stdout",
     "output_type": "stream",
     "text": [
      "0.9146715776550031\n"
     ]
    }
   ],
   "source": [
    "accuracy=0\n",
    "for k in range(Val_X.shape[0]):\n",
    "    accuracy +=calculate_accuracy(Val_X.iloc[k,:],root)\n",
    "print(accuracy/Val_X.shape[0])"
   ]
  },
  {
   "cell_type": "code",
   "execution_count": 32,
   "metadata": {},
   "outputs": [],
   "source": [
    "def calculate_depth_accuracy(X,depth):\n",
    "    acc_mat = np.zeros((X.shape[0],depth))\n",
    "    for d in range(depth):\n",
    "        for i in range(X.shape[0]):\n",
    "            acc_mat[i][d] = calculate_accuracy(X.iloc[i,:],0,root,d)\n",
    "    acc_mat = np.mean(acc_mat,axis=0)\n",
    "    return acc_mat\n"
   ]
  },
  {
   "cell_type": "code",
   "execution_count": 33,
   "metadata": {},
   "outputs": [
    {
     "name": "stdout",
     "output_type": "stream",
     "text": [
      "70.05505010886827\n",
      "[0.53621113 0.73711129 0.80626023 0.81751227 0.86886252 0.90998363\n",
      " 0.92982815 0.950491   0.9646072  0.98036007 0.98833879 0.99304419\n",
      " 0.9952946  0.99713584 0.99836334 0.99938625 0.99979542 1.        ]\n",
      "17\n"
     ]
    }
   ],
   "source": [
    "import time\n",
    "t = time.clock()\n",
    "train_accuracy_for_each_depth = calculate_depth_accuracy(X,18)\n",
    "print(time.clock()-t)\n",
    "print(train_accuracy_for_each_depth)\n",
    "print(np.argmax(train_accuracy_for_each_depth))"
   ]
  },
  {
   "cell_type": "code",
   "execution_count": 34,
   "metadata": {},
   "outputs": [
    {
     "name": "stdout",
     "output_type": "stream",
     "text": [
      "23.571649450525\n",
      "[0.53898097 0.72866789 0.79558011 0.80785758 0.85205648 0.88090853\n",
      " 0.88766114 0.89809699 0.91467158 0.91958257 0.91712707 0.91896869\n",
      " 0.91896869 0.9165132  0.91589932 0.91528545 0.91467158 0.91467158]\n",
      "9\n"
     ]
    }
   ],
   "source": [
    "import time\n",
    "t = time.clock()\n",
    "validation_accuracy_for_each_depth = calculate_depth_accuracy(val_X,18)\n",
    "print(time.clock()-t)\n",
    "print(validation_accuracy_for_each_depth)\n",
    "print(np.argmax(validation_accuracy_for_each_depth))"
   ]
  },
  {
   "cell_type": "code",
   "execution_count": 45,
   "metadata": {},
   "outputs": [
    {
     "data": {
      "text/plain": [
       "[<matplotlib.lines.Line2D at 0x1ae72394b00>]"
      ]
     },
     "execution_count": 45,
     "metadata": {},
     "output_type": "execute_result"
    },
    {
     "data": {
      "image/png": "[encoded data removed]",
      "text/plain": [
       "<Figure size 1152x720 with 1 Axes>"
      ]
     },
     "metadata": {},
     "output_type": "display_data"
    }
   ],
   "source": [
    "plt.figure(figsize=(16,10))\n",
    "plt.plot(range(18),validation_accuracy_for_each_depth*100,color='m')\n",
    "plt.plot(range(18),train_accuracy_for_each_depth*100,color='b')"
   ]
  },
  {
   "cell_type": "code",
   "execution_count": null,
   "metadata": {},
   "outputs": [],
   "source": []
  },
  {
   "cell_type": "code",
   "execution_count": null,
   "metadata": {},
   "outputs": [],
   "source": []
  }
 ],
 "metadata": {
  "kernelspec": {
   "display_name": "Python 3",
   "language": "python",
   "name": "python3"
  },
  "language_info": {
   "codemirror_mode": {
    "name": "ipython",
    "version": 3
   },
   "file_extension": ".py",
   "mimetype": "text/x-python",
   "name": "python",
   "nbconvert_exporter": "python",
   "pygments_lexer": "ipython3",
   "version": "3.6.5"
  }
 },
 "nbformat": 4,
 "nbformat_minor": 2
}
