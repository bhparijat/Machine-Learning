{
 "cells": [
  {
   "cell_type": "markdown",
   "metadata": {},
   "source": [
    "## This part of code obtains the best learnigng rate by comparing validation sse for different learning rates . \n",
    "<b>The best learning rate obtained  is 10^(-7) and then we go on to expirement with different lambdas . SSE is obtained \n",
    "for diffeent lambdas and corresponding weight vectors after 100000 iterations . Then the validation data is tested with \n",
    "each of weight vectors . From the graph plotted , we obtain that the validation SSE is minimum for 0.001 . Later we use weights generated for 0.001 to predict for test data </b>"
   ]
  },
  {
   "cell_type": "code",
   "execution_count": null,
   "metadata": {},
   "outputs": [],
   "source": [
    "import pandas as pd\n",
    "import numpy as np\n",
    "import seaborn as sns\n",
    "import matplotlib.pyplot as plt"
   ]
  },
  {
   "cell_type": "code",
   "execution_count": 59,
   "metadata": {},
   "outputs": [],
   "source": [
    "weight1 = pd.read_csv('weight_0.0001.csv')\n",
    "weight2 = pd.read_csv('weight_1e-05.csv')\n",
    "weight3 = pd.read_csv('weight_1e-06.csv')\n",
    "weight4 = pd.read_csv('weight_1e-07.csv')"
   ]
  },
  {
   "cell_type": "code",
   "execution_count": 60,
   "metadata": {},
   "outputs": [
    {
     "data": {
      "text/html": [
       "<div>\n",
       "<style scoped>\n",
       "    .dataframe tbody tr th:only-of-type {\n",
       "        vertical-align: middle;\n",
       "    }\n",
       "\n",
       "    .dataframe tbody tr th {\n",
       "        vertical-align: top;\n",
       "    }\n",
       "\n",
       "    .dataframe thead th {\n",
       "        text-align: right;\n",
       "    }\n",
       "</style>\n",
       "<table border=\"1\" class=\"dataframe\">\n",
       "  <thead>\n",
       "    <tr style=\"text-align: right;\">\n",
       "      <th></th>\n",
       "      <th>weight</th>\n",
       "      <th>feature</th>\n",
       "    </tr>\n",
       "  </thead>\n",
       "  <tbody>\n",
       "    <tr>\n",
       "      <th>0</th>\n",
       "      <td>-6.314734</td>\n",
       "      <td>1</td>\n",
       "    </tr>\n",
       "    <tr>\n",
       "      <th>1</th>\n",
       "      <td>-0.016919</td>\n",
       "      <td>2</td>\n",
       "    </tr>\n",
       "    <tr>\n",
       "      <th>2</th>\n",
       "      <td>7.585033</td>\n",
       "      <td>3</td>\n",
       "    </tr>\n",
       "    <tr>\n",
       "      <th>3</th>\n",
       "      <td>-0.756257</td>\n",
       "      <td>4</td>\n",
       "    </tr>\n",
       "    <tr>\n",
       "      <th>4</th>\n",
       "      <td>4.918300</td>\n",
       "      <td>5</td>\n",
       "    </tr>\n",
       "    <tr>\n",
       "      <th>5</th>\n",
       "      <td>2.960866</td>\n",
       "      <td>6</td>\n",
       "    </tr>\n",
       "    <tr>\n",
       "      <th>6</th>\n",
       "      <td>7.681923</td>\n",
       "      <td>7</td>\n",
       "    </tr>\n",
       "    <tr>\n",
       "      <th>7</th>\n",
       "      <td>8.606310</td>\n",
       "      <td>8</td>\n",
       "    </tr>\n",
       "    <tr>\n",
       "      <th>8</th>\n",
       "      <td>2.481608</td>\n",
       "      <td>9</td>\n",
       "    </tr>\n",
       "    <tr>\n",
       "      <th>9</th>\n",
       "      <td>4.239114</td>\n",
       "      <td>10</td>\n",
       "    </tr>\n",
       "    <tr>\n",
       "      <th>10</th>\n",
       "      <td>0.166684</td>\n",
       "      <td>11</td>\n",
       "    </tr>\n",
       "    <tr>\n",
       "      <th>11</th>\n",
       "      <td>-3.195887</td>\n",
       "      <td>12</td>\n",
       "    </tr>\n",
       "  </tbody>\n",
       "</table>\n",
       "</div>"
      ],
      "text/plain": [
       "      weight  feature\n",
       "0  -6.314734        1\n",
       "1  -0.016919        2\n",
       "2   7.585033        3\n",
       "3  -0.756257        4\n",
       "4   4.918300        5\n",
       "5   2.960866        6\n",
       "6   7.681923        7\n",
       "7   8.606310        8\n",
       "8   2.481608        9\n",
       "9   4.239114       10\n",
       "10  0.166684       11\n",
       "11 -3.195887       12"
      ]
     },
     "execution_count": 60,
     "metadata": {},
     "output_type": "execute_result"
    }
   ],
   "source": [
    "weight1"
   ]
  },
  {
   "cell_type": "code",
   "execution_count": 61,
   "metadata": {},
   "outputs": [],
   "source": [
    "diff_wt ={\n",
    "    0.0001:weight1.weight,\n",
    "    0.00001:weight2.weight,\n",
    "    0.000001:weight3.weight,\n",
    "    0.0000001:weight4.weight\n",
    "}"
   ]
  },
  {
   "cell_type": "code",
   "execution_count": 62,
   "metadata": {},
   "outputs": [],
   "source": [
    "features = pd.read_csv('features_used.csv')\n",
    "x_names = np.array(features['names'])"
   ]
  },
  {
   "cell_type": "code",
   "execution_count": 63,
   "metadata": {},
   "outputs": [
    {
     "data": {
      "text/plain": [
       "array(['bedrooms', 'bathrooms', 'sqft_living', 'floors', 'waterfront',\n",
       "       'view', 'grade', 'sqft_above', 'sqft_basement', 'lat',\n",
       "       'sqft_living15', 'dummy'], dtype=object)"
      ]
     },
     "execution_count": 63,
     "metadata": {},
     "output_type": "execute_result"
    }
   ],
   "source": [
    "x_names"
   ]
  },
  {
   "cell_type": "code",
   "execution_count": 64,
   "metadata": {},
   "outputs": [],
   "source": [
    "main_df_val = pd.read_csv('PA1_dev.csv.xls')"
   ]
  },
  {
   "cell_type": "code",
   "execution_count": 65,
   "metadata": {},
   "outputs": [
    {
     "data": {
      "text/html": [
       "<div>\n",
       "<style scoped>\n",
       "    .dataframe tbody tr th:only-of-type {\n",
       "        vertical-align: middle;\n",
       "    }\n",
       "\n",
       "    .dataframe tbody tr th {\n",
       "        vertical-align: top;\n",
       "    }\n",
       "\n",
       "    .dataframe thead th {\n",
       "        text-align: right;\n",
       "    }\n",
       "</style>\n",
       "<table border=\"1\" class=\"dataframe\">\n",
       "  <thead>\n",
       "    <tr style=\"text-align: right;\">\n",
       "      <th></th>\n",
       "      <th>bedrooms</th>\n",
       "      <th>bathrooms</th>\n",
       "      <th>sqft_living</th>\n",
       "      <th>floors</th>\n",
       "      <th>waterfront</th>\n",
       "      <th>view</th>\n",
       "      <th>grade</th>\n",
       "      <th>sqft_above</th>\n",
       "      <th>sqft_basement</th>\n",
       "      <th>lat</th>\n",
       "      <th>sqft_living15</th>\n",
       "      <th>dummy</th>\n",
       "    </tr>\n",
       "  </thead>\n",
       "  <tbody>\n",
       "    <tr>\n",
       "      <th>0</th>\n",
       "      <td>3</td>\n",
       "      <td>2.25</td>\n",
       "      <td>2570</td>\n",
       "      <td>2.0</td>\n",
       "      <td>0</td>\n",
       "      <td>0</td>\n",
       "      <td>7</td>\n",
       "      <td>2170</td>\n",
       "      <td>400</td>\n",
       "      <td>47.7210</td>\n",
       "      <td>1690</td>\n",
       "      <td>1</td>\n",
       "    </tr>\n",
       "    <tr>\n",
       "      <th>1</th>\n",
       "      <td>3</td>\n",
       "      <td>2.00</td>\n",
       "      <td>1680</td>\n",
       "      <td>1.0</td>\n",
       "      <td>0</td>\n",
       "      <td>0</td>\n",
       "      <td>8</td>\n",
       "      <td>1680</td>\n",
       "      <td>0</td>\n",
       "      <td>47.6168</td>\n",
       "      <td>1800</td>\n",
       "      <td>1</td>\n",
       "    </tr>\n",
       "    <tr>\n",
       "      <th>2</th>\n",
       "      <td>3</td>\n",
       "      <td>2.50</td>\n",
       "      <td>3560</td>\n",
       "      <td>1.0</td>\n",
       "      <td>0</td>\n",
       "      <td>0</td>\n",
       "      <td>8</td>\n",
       "      <td>1860</td>\n",
       "      <td>1700</td>\n",
       "      <td>47.6007</td>\n",
       "      <td>2210</td>\n",
       "      <td>1</td>\n",
       "    </tr>\n",
       "    <tr>\n",
       "      <th>3</th>\n",
       "      <td>2</td>\n",
       "      <td>1.00</td>\n",
       "      <td>1160</td>\n",
       "      <td>1.0</td>\n",
       "      <td>0</td>\n",
       "      <td>0</td>\n",
       "      <td>7</td>\n",
       "      <td>860</td>\n",
       "      <td>300</td>\n",
       "      <td>47.6900</td>\n",
       "      <td>1330</td>\n",
       "      <td>1</td>\n",
       "    </tr>\n",
       "    <tr>\n",
       "      <th>4</th>\n",
       "      <td>3</td>\n",
       "      <td>2.00</td>\n",
       "      <td>1890</td>\n",
       "      <td>2.0</td>\n",
       "      <td>0</td>\n",
       "      <td>0</td>\n",
       "      <td>7</td>\n",
       "      <td>1890</td>\n",
       "      <td>0</td>\n",
       "      <td>47.7277</td>\n",
       "      <td>1890</td>\n",
       "      <td>1</td>\n",
       "    </tr>\n",
       "  </tbody>\n",
       "</table>\n",
       "</div>"
      ],
      "text/plain": [
       "   bedrooms  bathrooms  sqft_living  floors  waterfront  view  grade  \\\n",
       "0         3       2.25         2570     2.0           0     0      7   \n",
       "1         3       2.00         1680     1.0           0     0      8   \n",
       "2         3       2.50         3560     1.0           0     0      8   \n",
       "3         2       1.00         1160     1.0           0     0      7   \n",
       "4         3       2.00         1890     2.0           0     0      7   \n",
       "\n",
       "   sqft_above  sqft_basement      lat  sqft_living15  dummy  \n",
       "0        2170            400  47.7210           1690      1  \n",
       "1        1680              0  47.6168           1800      1  \n",
       "2        1860           1700  47.6007           2210      1  \n",
       "3         860            300  47.6900           1330      1  \n",
       "4        1890              0  47.7277           1890      1  "
      ]
     },
     "execution_count": 65,
     "metadata": {},
     "output_type": "execute_result"
    }
   ],
   "source": [
    "df_val = main_df_val[x_names]\n",
    "df_val.head()"
   ]
  },
  {
   "cell_type": "code",
   "execution_count": 66,
   "metadata": {},
   "outputs": [],
   "source": [
    "df_val = df_val.drop(['dummy'],1)"
   ]
  },
  {
   "cell_type": "code",
   "execution_count": 67,
   "metadata": {},
   "outputs": [],
   "source": [
    "for feature in df_val.columns:\n",
    "    mn = df_val[feature].min()\n",
    "    rnge = df_val[feature].max() - df_val[feature].min()\n",
    "    df_val[feature] = df_val[feature].apply(lambda x : (x-mn)/rnge)"
   ]
  },
  {
   "cell_type": "code",
   "execution_count": 68,
   "metadata": {},
   "outputs": [],
   "source": [
    "df_val['dummy']=main_df_val['dummy']"
   ]
  },
  {
   "cell_type": "code",
   "execution_count": 69,
   "metadata": {},
   "outputs": [
    {
     "data": {
      "text/html": [
       "<div>\n",
       "<style scoped>\n",
       "    .dataframe tbody tr th:only-of-type {\n",
       "        vertical-align: middle;\n",
       "    }\n",
       "\n",
       "    .dataframe tbody tr th {\n",
       "        vertical-align: top;\n",
       "    }\n",
       "\n",
       "    .dataframe thead th {\n",
       "        text-align: right;\n",
       "    }\n",
       "</style>\n",
       "<table border=\"1\" class=\"dataframe\">\n",
       "  <thead>\n",
       "    <tr style=\"text-align: right;\">\n",
       "      <th></th>\n",
       "      <th>bedrooms</th>\n",
       "      <th>bathrooms</th>\n",
       "      <th>sqft_living</th>\n",
       "      <th>floors</th>\n",
       "      <th>waterfront</th>\n",
       "      <th>view</th>\n",
       "      <th>grade</th>\n",
       "      <th>sqft_above</th>\n",
       "      <th>sqft_basement</th>\n",
       "      <th>lat</th>\n",
       "      <th>sqft_living15</th>\n",
       "      <th>dummy</th>\n",
       "    </tr>\n",
       "  </thead>\n",
       "  <tbody>\n",
       "    <tr>\n",
       "      <th>0</th>\n",
       "      <td>0.250</td>\n",
       "      <td>0.206897</td>\n",
       "      <td>0.165779</td>\n",
       "      <td>0.4</td>\n",
       "      <td>0.0</td>\n",
       "      <td>0.0</td>\n",
       "      <td>0.4</td>\n",
       "      <td>0.197339</td>\n",
       "      <td>0.082988</td>\n",
       "      <td>0.908027</td>\n",
       "      <td>0.184116</td>\n",
       "      <td>1</td>\n",
       "    </tr>\n",
       "    <tr>\n",
       "      <th>1</th>\n",
       "      <td>0.250</td>\n",
       "      <td>0.172414</td>\n",
       "      <td>0.098099</td>\n",
       "      <td>0.0</td>\n",
       "      <td>0.0</td>\n",
       "      <td>0.0</td>\n",
       "      <td>0.5</td>\n",
       "      <td>0.143016</td>\n",
       "      <td>0.000000</td>\n",
       "      <td>0.738707</td>\n",
       "      <td>0.203971</td>\n",
       "      <td>1</td>\n",
       "    </tr>\n",
       "    <tr>\n",
       "      <th>2</th>\n",
       "      <td>0.250</td>\n",
       "      <td>0.241379</td>\n",
       "      <td>0.241065</td>\n",
       "      <td>0.0</td>\n",
       "      <td>0.0</td>\n",
       "      <td>0.0</td>\n",
       "      <td>0.5</td>\n",
       "      <td>0.162971</td>\n",
       "      <td>0.352697</td>\n",
       "      <td>0.712545</td>\n",
       "      <td>0.277978</td>\n",
       "      <td>1</td>\n",
       "    </tr>\n",
       "    <tr>\n",
       "      <th>3</th>\n",
       "      <td>0.125</td>\n",
       "      <td>0.034483</td>\n",
       "      <td>0.058555</td>\n",
       "      <td>0.0</td>\n",
       "      <td>0.0</td>\n",
       "      <td>0.0</td>\n",
       "      <td>0.4</td>\n",
       "      <td>0.052106</td>\n",
       "      <td>0.062241</td>\n",
       "      <td>0.857654</td>\n",
       "      <td>0.119134</td>\n",
       "      <td>1</td>\n",
       "    </tr>\n",
       "    <tr>\n",
       "      <th>4</th>\n",
       "      <td>0.250</td>\n",
       "      <td>0.172414</td>\n",
       "      <td>0.114068</td>\n",
       "      <td>0.4</td>\n",
       "      <td>0.0</td>\n",
       "      <td>0.0</td>\n",
       "      <td>0.4</td>\n",
       "      <td>0.166297</td>\n",
       "      <td>0.000000</td>\n",
       "      <td>0.918915</td>\n",
       "      <td>0.220217</td>\n",
       "      <td>1</td>\n",
       "    </tr>\n",
       "  </tbody>\n",
       "</table>\n",
       "</div>"
      ],
      "text/plain": [
       "   bedrooms  bathrooms  sqft_living  floors  waterfront  view  grade  \\\n",
       "0     0.250   0.206897     0.165779     0.4         0.0   0.0    0.4   \n",
       "1     0.250   0.172414     0.098099     0.0         0.0   0.0    0.5   \n",
       "2     0.250   0.241379     0.241065     0.0         0.0   0.0    0.5   \n",
       "3     0.125   0.034483     0.058555     0.0         0.0   0.0    0.4   \n",
       "4     0.250   0.172414     0.114068     0.4         0.0   0.0    0.4   \n",
       "\n",
       "   sqft_above  sqft_basement       lat  sqft_living15  dummy  \n",
       "0    0.197339       0.082988  0.908027       0.184116      1  \n",
       "1    0.143016       0.000000  0.738707       0.203971      1  \n",
       "2    0.162971       0.352697  0.712545       0.277978      1  \n",
       "3    0.052106       0.062241  0.857654       0.119134      1  \n",
       "4    0.166297       0.000000  0.918915       0.220217      1  "
      ]
     },
     "execution_count": 69,
     "metadata": {},
     "output_type": "execute_result"
    }
   ],
   "source": [
    "df_val.head()"
   ]
  },
  {
   "cell_type": "code",
   "execution_count": 70,
   "metadata": {},
   "outputs": [],
   "source": [
    "def calculate_sse(weight):\n",
    "    print(df_val.shape,weight.shape)\n",
    "    p = df_val.dot(np.array(weight)) \n",
    "    y = main_df_val['price']\n",
    "    diff = p - y\n",
    "    sse = (np.transpose(diff)).dot(diff)\n",
    "    return sse"
   ]
  },
  {
   "cell_type": "code",
   "execution_count": 71,
   "metadata": {},
   "outputs": [
    {
     "name": "stdout",
     "output_type": "stream",
     "text": [
      "(5597, 12) (12,)\n",
      "lr =  0.0001  sse =  42092.233530221536\n",
      "(5597, 12) (12,)\n",
      "lr =  1e-05  sse =  42392.654374075384\n",
      "(5597, 12) (12,)\n",
      "lr =  1e-06  sse =  31865.8394104541\n",
      "(5597, 12) (12,)\n",
      "lr =  1e-07  sse =  26098.742670731357\n"
     ]
    }
   ],
   "source": [
    "learning_rate = [0.0001,0.00001,0.000001,0.0000001]\n",
    "for lr in learning_rate:\n",
    "    sse = calculate_sse(diff_wt[lr])\n",
    "    print(\"lr = \",lr,\" sse = \",sse)\n",
    "    "
   ]
  },
  {
   "cell_type": "code",
   "execution_count": 53,
   "metadata": {},
   "outputs": [],
   "source": [
    "############### thus choosing learn rate = 10**(-7)"
   ]
  },
  {
   "cell_type": "code",
   "execution_count": 97,
   "metadata": {},
   "outputs": [],
   "source": [
    "main_df_train = pd.read_csv('PA1_train.csv.xls')\n",
    "df_train = main_df_train.drop(['id','dummy'],1)"
   ]
  },
  {
   "cell_type": "code",
   "execution_count": 98,
   "metadata": {},
   "outputs": [
    {
     "data": {
      "text/plain": [
       "Index(['date', 'bedrooms', 'bathrooms', 'sqft_living', 'sqft_lot', 'floors',\n",
       "       'waterfront', 'view', 'condition', 'grade', 'sqft_above',\n",
       "       'sqft_basement', 'yr_built', 'yr_renovated', 'zipcode', 'lat', 'long',\n",
       "       'sqft_living15', 'sqft_lot15', 'price'],\n",
       "      dtype='object')"
      ]
     },
     "execution_count": 98,
     "metadata": {},
     "output_type": "execute_result"
    }
   ],
   "source": [
    "df_train.columns"
   ]
  },
  {
   "cell_type": "code",
   "execution_count": 99,
   "metadata": {},
   "outputs": [],
   "source": [
    "df_train['date'] = pd.to_datetime(main_df_train['date'])\n",
    "df_train['month'] = df_train['date'].apply(lambda x:x.month)\n",
    "df_train['year'] =  df_train['date'].apply(lambda x:x.year)\n",
    "df_train['day'] = df_train['date'].apply(lambda x:x.day)"
   ]
  },
  {
   "cell_type": "code",
   "execution_count": 100,
   "metadata": {},
   "outputs": [
    {
     "data": {
      "text/plain": [
       "(23,)"
      ]
     },
     "execution_count": 100,
     "metadata": {},
     "output_type": "execute_result"
    }
   ],
   "source": [
    "df_train.columns.shape"
   ]
  },
  {
   "cell_type": "code",
   "execution_count": 101,
   "metadata": {},
   "outputs": [
    {
     "data": {
      "text/plain": [
       "(10000, 22)"
      ]
     },
     "execution_count": 101,
     "metadata": {},
     "output_type": "execute_result"
    }
   ],
   "source": [
    "df_train = df_train.drop(['date'],1)\n",
    "df_train.shape"
   ]
  },
  {
   "cell_type": "code",
   "execution_count": 102,
   "metadata": {},
   "outputs": [
    {
     "data": {
      "text/plain": [
       "Index(['bedrooms', 'bathrooms', 'sqft_living', 'sqft_lot', 'floors',\n",
       "       'waterfront', 'view', 'condition', 'grade', 'sqft_above',\n",
       "       'sqft_basement', 'yr_built', 'yr_renovated', 'zipcode', 'lat', 'long',\n",
       "       'sqft_living15', 'sqft_lot15', 'price', 'month', 'year', 'day'],\n",
       "      dtype='object')"
      ]
     },
     "execution_count": 102,
     "metadata": {},
     "output_type": "execute_result"
    }
   ],
   "source": [
    "df_train.columns"
   ]
  },
  {
   "cell_type": "code",
   "execution_count": 103,
   "metadata": {},
   "outputs": [],
   "source": [
    "y_train = df_train['price']\n",
    "df_train = df_train.drop(['price'],1)"
   ]
  },
  {
   "cell_type": "code",
   "execution_count": 104,
   "metadata": {},
   "outputs": [],
   "source": [
    "for feature in df_train.columns:\n",
    "    mn = df_train[feature].min()\n",
    "    rnge = df_train[feature].max() - df_train[feature].min()\n",
    "    df_train[feature] = df_train[feature].apply(lambda x : (x-mn)/rnge)"
   ]
  },
  {
   "cell_type": "code",
   "execution_count": 105,
   "metadata": {},
   "outputs": [
    {
     "data": {
      "text/html": [
       "<div>\n",
       "<style scoped>\n",
       "    .dataframe tbody tr th:only-of-type {\n",
       "        vertical-align: middle;\n",
       "    }\n",
       "\n",
       "    .dataframe tbody tr th {\n",
       "        vertical-align: top;\n",
       "    }\n",
       "\n",
       "    .dataframe thead th {\n",
       "        text-align: right;\n",
       "    }\n",
       "</style>\n",
       "<table border=\"1\" class=\"dataframe\">\n",
       "  <thead>\n",
       "    <tr style=\"text-align: right;\">\n",
       "      <th></th>\n",
       "      <th>bedrooms</th>\n",
       "      <th>bathrooms</th>\n",
       "      <th>sqft_living</th>\n",
       "      <th>sqft_lot</th>\n",
       "      <th>floors</th>\n",
       "      <th>waterfront</th>\n",
       "      <th>view</th>\n",
       "      <th>condition</th>\n",
       "      <th>grade</th>\n",
       "      <th>sqft_above</th>\n",
       "      <th>...</th>\n",
       "      <th>yr_built</th>\n",
       "      <th>yr_renovated</th>\n",
       "      <th>zipcode</th>\n",
       "      <th>lat</th>\n",
       "      <th>long</th>\n",
       "      <th>sqft_living15</th>\n",
       "      <th>sqft_lot15</th>\n",
       "      <th>month</th>\n",
       "      <th>year</th>\n",
       "      <th>day</th>\n",
       "    </tr>\n",
       "  </thead>\n",
       "  <tbody>\n",
       "    <tr>\n",
       "      <th>0</th>\n",
       "      <td>0.09375</td>\n",
       "      <td>0.275862</td>\n",
       "      <td>0.246849</td>\n",
       "      <td>0.005715</td>\n",
       "      <td>0.4</td>\n",
       "      <td>0.0</td>\n",
       "      <td>0.0</td>\n",
       "      <td>0.50</td>\n",
       "      <td>0.555556</td>\n",
       "      <td>0.276796</td>\n",
       "      <td>...</td>\n",
       "      <td>0.773913</td>\n",
       "      <td>0.0</td>\n",
       "      <td>0.368687</td>\n",
       "      <td>0.761782</td>\n",
       "      <td>0.394979</td>\n",
       "      <td>0.400000</td>\n",
       "      <td>0.011601</td>\n",
       "      <td>0.545455</td>\n",
       "      <td>0.0</td>\n",
       "      <td>0.266667</td>\n",
       "    </tr>\n",
       "    <tr>\n",
       "      <th>1</th>\n",
       "      <td>0.03125</td>\n",
       "      <td>0.275862</td>\n",
       "      <td>0.234244</td>\n",
       "      <td>0.002682</td>\n",
       "      <td>0.0</td>\n",
       "      <td>0.0</td>\n",
       "      <td>0.0</td>\n",
       "      <td>1.00</td>\n",
       "      <td>0.444444</td>\n",
       "      <td>0.109541</td>\n",
       "      <td>...</td>\n",
       "      <td>0.226087</td>\n",
       "      <td>0.0</td>\n",
       "      <td>0.631313</td>\n",
       "      <td>0.683127</td>\n",
       "      <td>0.112971</td>\n",
       "      <td>0.318584</td>\n",
       "      <td>0.004985</td>\n",
       "      <td>0.545455</td>\n",
       "      <td>0.0</td>\n",
       "      <td>0.566667</td>\n",
       "    </tr>\n",
       "    <tr>\n",
       "      <th>2</th>\n",
       "      <td>0.12500</td>\n",
       "      <td>0.172414</td>\n",
       "      <td>0.134454</td>\n",
       "      <td>0.001471</td>\n",
       "      <td>0.2</td>\n",
       "      <td>0.0</td>\n",
       "      <td>0.0</td>\n",
       "      <td>0.50</td>\n",
       "      <td>0.444444</td>\n",
       "      <td>0.150766</td>\n",
       "      <td>...</td>\n",
       "      <td>0.017391</td>\n",
       "      <td>0.0</td>\n",
       "      <td>0.722222</td>\n",
       "      <td>0.707093</td>\n",
       "      <td>0.174059</td>\n",
       "      <td>0.226549</td>\n",
       "      <td>0.003837</td>\n",
       "      <td>0.545455</td>\n",
       "      <td>0.0</td>\n",
       "      <td>0.200000</td>\n",
       "    </tr>\n",
       "    <tr>\n",
       "      <th>3</th>\n",
       "      <td>0.09375</td>\n",
       "      <td>0.172414</td>\n",
       "      <td>0.141807</td>\n",
       "      <td>0.005469</td>\n",
       "      <td>0.0</td>\n",
       "      <td>0.0</td>\n",
       "      <td>0.0</td>\n",
       "      <td>0.75</td>\n",
       "      <td>0.444444</td>\n",
       "      <td>0.159011</td>\n",
       "      <td>...</td>\n",
       "      <td>0.600000</td>\n",
       "      <td>0.0</td>\n",
       "      <td>0.292929</td>\n",
       "      <td>0.515522</td>\n",
       "      <td>0.300418</td>\n",
       "      <td>0.212389</td>\n",
       "      <td>0.011556</td>\n",
       "      <td>0.272727</td>\n",
       "      <td>1.0</td>\n",
       "      <td>0.900000</td>\n",
       "    </tr>\n",
       "    <tr>\n",
       "      <th>4</th>\n",
       "      <td>0.15625</td>\n",
       "      <td>0.241379</td>\n",
       "      <td>0.363445</td>\n",
       "      <td>0.006426</td>\n",
       "      <td>0.0</td>\n",
       "      <td>0.0</td>\n",
       "      <td>0.5</td>\n",
       "      <td>1.00</td>\n",
       "      <td>0.555556</td>\n",
       "      <td>0.243816</td>\n",
       "      <td>...</td>\n",
       "      <td>0.539130</td>\n",
       "      <td>0.0</td>\n",
       "      <td>0.035354</td>\n",
       "      <td>0.690043</td>\n",
       "      <td>0.335565</td>\n",
       "      <td>0.361062</td>\n",
       "      <td>0.011188</td>\n",
       "      <td>0.727273</td>\n",
       "      <td>0.0</td>\n",
       "      <td>0.100000</td>\n",
       "    </tr>\n",
       "  </tbody>\n",
       "</table>\n",
       "<p>5 rows × 21 columns</p>\n",
       "</div>"
      ],
      "text/plain": [
       "   bedrooms  bathrooms  sqft_living  sqft_lot  floors  waterfront  view  \\\n",
       "0   0.09375   0.275862     0.246849  0.005715     0.4         0.0   0.0   \n",
       "1   0.03125   0.275862     0.234244  0.002682     0.0         0.0   0.0   \n",
       "2   0.12500   0.172414     0.134454  0.001471     0.2         0.0   0.0   \n",
       "3   0.09375   0.172414     0.141807  0.005469     0.0         0.0   0.0   \n",
       "4   0.15625   0.241379     0.363445  0.006426     0.0         0.0   0.5   \n",
       "\n",
       "   condition     grade  sqft_above    ...     yr_built  yr_renovated  \\\n",
       "0       0.50  0.555556    0.276796    ...     0.773913           0.0   \n",
       "1       1.00  0.444444    0.109541    ...     0.226087           0.0   \n",
       "2       0.50  0.444444    0.150766    ...     0.017391           0.0   \n",
       "3       0.75  0.444444    0.159011    ...     0.600000           0.0   \n",
       "4       1.00  0.555556    0.243816    ...     0.539130           0.0   \n",
       "\n",
       "    zipcode       lat      long  sqft_living15  sqft_lot15     month  year  \\\n",
       "0  0.368687  0.761782  0.394979       0.400000    0.011601  0.545455   0.0   \n",
       "1  0.631313  0.683127  0.112971       0.318584    0.004985  0.545455   0.0   \n",
       "2  0.722222  0.707093  0.174059       0.226549    0.003837  0.545455   0.0   \n",
       "3  0.292929  0.515522  0.300418       0.212389    0.011556  0.272727   1.0   \n",
       "4  0.035354  0.690043  0.335565       0.361062    0.011188  0.727273   0.0   \n",
       "\n",
       "        day  \n",
       "0  0.266667  \n",
       "1  0.566667  \n",
       "2  0.200000  \n",
       "3  0.900000  \n",
       "4  0.100000  \n",
       "\n",
       "[5 rows x 21 columns]"
      ]
     },
     "execution_count": 105,
     "metadata": {},
     "output_type": "execute_result"
    }
   ],
   "source": [
    "df_train.head()"
   ]
  },
  {
   "cell_type": "code",
   "execution_count": 106,
   "metadata": {},
   "outputs": [],
   "source": [
    "def check_explode(norm):\n",
    "    does_explode = True\n",
    "    for i in range(1,len(norm)-1):\n",
    "        if norm[i]<norm[i-1]:\n",
    "            does_explode = False\n",
    "    return does_explode"
   ]
  },
  {
   "cell_type": "code",
   "execution_count": 107,
   "metadata": {},
   "outputs": [
    {
     "data": {
      "text/html": [
       "<div>\n",
       "<style scoped>\n",
       "    .dataframe tbody tr th:only-of-type {\n",
       "        vertical-align: middle;\n",
       "    }\n",
       "\n",
       "    .dataframe tbody tr th {\n",
       "        vertical-align: top;\n",
       "    }\n",
       "\n",
       "    .dataframe thead th {\n",
       "        text-align: right;\n",
       "    }\n",
       "</style>\n",
       "<table border=\"1\" class=\"dataframe\">\n",
       "  <thead>\n",
       "    <tr style=\"text-align: right;\">\n",
       "      <th></th>\n",
       "      <th>bedrooms</th>\n",
       "      <th>bathrooms</th>\n",
       "      <th>sqft_living</th>\n",
       "      <th>sqft_lot</th>\n",
       "      <th>floors</th>\n",
       "      <th>waterfront</th>\n",
       "      <th>view</th>\n",
       "      <th>condition</th>\n",
       "      <th>grade</th>\n",
       "      <th>sqft_above</th>\n",
       "      <th>...</th>\n",
       "      <th>yr_built</th>\n",
       "      <th>yr_renovated</th>\n",
       "      <th>zipcode</th>\n",
       "      <th>lat</th>\n",
       "      <th>long</th>\n",
       "      <th>sqft_living15</th>\n",
       "      <th>sqft_lot15</th>\n",
       "      <th>month</th>\n",
       "      <th>year</th>\n",
       "      <th>day</th>\n",
       "    </tr>\n",
       "  </thead>\n",
       "  <tbody>\n",
       "    <tr>\n",
       "      <th>count</th>\n",
       "      <td>10000.000000</td>\n",
       "      <td>10000.000000</td>\n",
       "      <td>10000.000000</td>\n",
       "      <td>10000.000000</td>\n",
       "      <td>10000.000000</td>\n",
       "      <td>10000.000000</td>\n",
       "      <td>10000.000000</td>\n",
       "      <td>10000.000000</td>\n",
       "      <td>10000.000000</td>\n",
       "      <td>10000.000000</td>\n",
       "      <td>...</td>\n",
       "      <td>10000.000000</td>\n",
       "      <td>10000.000000</td>\n",
       "      <td>10000.000000</td>\n",
       "      <td>10000.000000</td>\n",
       "      <td>10000.000000</td>\n",
       "      <td>10000.000000</td>\n",
       "      <td>10000.000000</td>\n",
       "      <td>10000.000000</td>\n",
       "      <td>10000.000000</td>\n",
       "      <td>10000.000000</td>\n",
       "    </tr>\n",
       "    <tr>\n",
       "      <th>mean</th>\n",
       "      <td>0.074225</td>\n",
       "      <td>0.223293</td>\n",
       "      <td>0.179645</td>\n",
       "      <td>0.008794</td>\n",
       "      <td>0.201480</td>\n",
       "      <td>0.007000</td>\n",
       "      <td>0.057350</td>\n",
       "      <td>0.602275</td>\n",
       "      <td>0.408133</td>\n",
       "      <td>0.167621</td>\n",
       "      <td>...</td>\n",
       "      <td>0.618477</td>\n",
       "      <td>0.040311</td>\n",
       "      <td>0.390369</td>\n",
       "      <td>0.649693</td>\n",
       "      <td>0.251643</td>\n",
       "      <td>0.271562</td>\n",
       "      <td>0.013884</td>\n",
       "      <td>0.508400</td>\n",
       "      <td>0.318500</td>\n",
       "      <td>0.493403</td>\n",
       "    </tr>\n",
       "    <tr>\n",
       "      <th>std</th>\n",
       "      <td>0.029476</td>\n",
       "      <td>0.105535</td>\n",
       "      <td>0.095728</td>\n",
       "      <td>0.024960</td>\n",
       "      <td>0.217059</td>\n",
       "      <td>0.083377</td>\n",
       "      <td>0.188983</td>\n",
       "      <td>0.163398</td>\n",
       "      <td>0.131118</td>\n",
       "      <td>0.097864</td>\n",
       "      <td>...</td>\n",
       "      <td>0.256353</td>\n",
       "      <td>0.195722</td>\n",
       "      <td>0.270295</td>\n",
       "      <td>0.223018</td>\n",
       "      <td>0.118330</td>\n",
       "      <td>0.122460</td>\n",
       "      <td>0.032441</td>\n",
       "      <td>0.282858</td>\n",
       "      <td>0.465918</td>\n",
       "      <td>0.287392</td>\n",
       "    </tr>\n",
       "    <tr>\n",
       "      <th>min</th>\n",
       "      <td>0.000000</td>\n",
       "      <td>0.000000</td>\n",
       "      <td>0.000000</td>\n",
       "      <td>0.000000</td>\n",
       "      <td>0.000000</td>\n",
       "      <td>0.000000</td>\n",
       "      <td>0.000000</td>\n",
       "      <td>0.000000</td>\n",
       "      <td>0.000000</td>\n",
       "      <td>0.000000</td>\n",
       "      <td>...</td>\n",
       "      <td>0.000000</td>\n",
       "      <td>0.000000</td>\n",
       "      <td>0.000000</td>\n",
       "      <td>0.000000</td>\n",
       "      <td>0.000000</td>\n",
       "      <td>0.000000</td>\n",
       "      <td>0.000000</td>\n",
       "      <td>0.000000</td>\n",
       "      <td>0.000000</td>\n",
       "      <td>0.000000</td>\n",
       "    </tr>\n",
       "    <tr>\n",
       "      <th>25%</th>\n",
       "      <td>0.062500</td>\n",
       "      <td>0.172414</td>\n",
       "      <td>0.111345</td>\n",
       "      <td>0.002704</td>\n",
       "      <td>0.000000</td>\n",
       "      <td>0.000000</td>\n",
       "      <td>0.000000</td>\n",
       "      <td>0.500000</td>\n",
       "      <td>0.333333</td>\n",
       "      <td>0.096584</td>\n",
       "      <td>...</td>\n",
       "      <td>0.443478</td>\n",
       "      <td>0.000000</td>\n",
       "      <td>0.161616</td>\n",
       "      <td>0.505549</td>\n",
       "      <td>0.155649</td>\n",
       "      <td>0.182301</td>\n",
       "      <td>0.005091</td>\n",
       "      <td>0.272727</td>\n",
       "      <td>0.000000</td>\n",
       "      <td>0.233333</td>\n",
       "    </tr>\n",
       "    <tr>\n",
       "      <th>50%</th>\n",
       "      <td>0.062500</td>\n",
       "      <td>0.241379</td>\n",
       "      <td>0.162815</td>\n",
       "      <td>0.004269</td>\n",
       "      <td>0.200000</td>\n",
       "      <td>0.000000</td>\n",
       "      <td>0.000000</td>\n",
       "      <td>0.500000</td>\n",
       "      <td>0.333333</td>\n",
       "      <td>0.140165</td>\n",
       "      <td>...</td>\n",
       "      <td>0.660870</td>\n",
       "      <td>0.000000</td>\n",
       "      <td>0.323232</td>\n",
       "      <td>0.668168</td>\n",
       "      <td>0.237657</td>\n",
       "      <td>0.246018</td>\n",
       "      <td>0.007995</td>\n",
       "      <td>0.454545</td>\n",
       "      <td>0.000000</td>\n",
       "      <td>0.500000</td>\n",
       "    </tr>\n",
       "    <tr>\n",
       "      <th>75%</th>\n",
       "      <td>0.093750</td>\n",
       "      <td>0.275862</td>\n",
       "      <td>0.228992</td>\n",
       "      <td>0.006166</td>\n",
       "      <td>0.400000</td>\n",
       "      <td>0.000000</td>\n",
       "      <td>0.000000</td>\n",
       "      <td>0.750000</td>\n",
       "      <td>0.444444</td>\n",
       "      <td>0.219081</td>\n",
       "      <td>...</td>\n",
       "      <td>0.843478</td>\n",
       "      <td>0.000000</td>\n",
       "      <td>0.587121</td>\n",
       "      <td>0.838829</td>\n",
       "      <td>0.325523</td>\n",
       "      <td>0.339823</td>\n",
       "      <td>0.010839</td>\n",
       "      <td>0.727273</td>\n",
       "      <td>1.000000</td>\n",
       "      <td>0.733333</td>\n",
       "    </tr>\n",
       "    <tr>\n",
       "      <th>max</th>\n",
       "      <td>1.000000</td>\n",
       "      <td>1.000000</td>\n",
       "      <td>1.000000</td>\n",
       "      <td>1.000000</td>\n",
       "      <td>1.000000</td>\n",
       "      <td>1.000000</td>\n",
       "      <td>1.000000</td>\n",
       "      <td>1.000000</td>\n",
       "      <td>1.000000</td>\n",
       "      <td>1.000000</td>\n",
       "      <td>...</td>\n",
       "      <td>1.000000</td>\n",
       "      <td>1.000000</td>\n",
       "      <td>1.000000</td>\n",
       "      <td>1.000000</td>\n",
       "      <td>1.000000</td>\n",
       "      <td>1.000000</td>\n",
       "      <td>1.000000</td>\n",
       "      <td>1.000000</td>\n",
       "      <td>1.000000</td>\n",
       "      <td>1.000000</td>\n",
       "    </tr>\n",
       "  </tbody>\n",
       "</table>\n",
       "<p>8 rows × 21 columns</p>\n",
       "</div>"
      ],
      "text/plain": [
       "           bedrooms     bathrooms   sqft_living      sqft_lot        floors  \\\n",
       "count  10000.000000  10000.000000  10000.000000  10000.000000  10000.000000   \n",
       "mean       0.074225      0.223293      0.179645      0.008794      0.201480   \n",
       "std        0.029476      0.105535      0.095728      0.024960      0.217059   \n",
       "min        0.000000      0.000000      0.000000      0.000000      0.000000   \n",
       "25%        0.062500      0.172414      0.111345      0.002704      0.000000   \n",
       "50%        0.062500      0.241379      0.162815      0.004269      0.200000   \n",
       "75%        0.093750      0.275862      0.228992      0.006166      0.400000   \n",
       "max        1.000000      1.000000      1.000000      1.000000      1.000000   \n",
       "\n",
       "         waterfront          view     condition         grade    sqft_above  \\\n",
       "count  10000.000000  10000.000000  10000.000000  10000.000000  10000.000000   \n",
       "mean       0.007000      0.057350      0.602275      0.408133      0.167621   \n",
       "std        0.083377      0.188983      0.163398      0.131118      0.097864   \n",
       "min        0.000000      0.000000      0.000000      0.000000      0.000000   \n",
       "25%        0.000000      0.000000      0.500000      0.333333      0.096584   \n",
       "50%        0.000000      0.000000      0.500000      0.333333      0.140165   \n",
       "75%        0.000000      0.000000      0.750000      0.444444      0.219081   \n",
       "max        1.000000      1.000000      1.000000      1.000000      1.000000   \n",
       "\n",
       "           ...           yr_built  yr_renovated       zipcode           lat  \\\n",
       "count      ...       10000.000000  10000.000000  10000.000000  10000.000000   \n",
       "mean       ...           0.618477      0.040311      0.390369      0.649693   \n",
       "std        ...           0.256353      0.195722      0.270295      0.223018   \n",
       "min        ...           0.000000      0.000000      0.000000      0.000000   \n",
       "25%        ...           0.443478      0.000000      0.161616      0.505549   \n",
       "50%        ...           0.660870      0.000000      0.323232      0.668168   \n",
       "75%        ...           0.843478      0.000000      0.587121      0.838829   \n",
       "max        ...           1.000000      1.000000      1.000000      1.000000   \n",
       "\n",
       "               long  sqft_living15    sqft_lot15         month          year  \\\n",
       "count  10000.000000   10000.000000  10000.000000  10000.000000  10000.000000   \n",
       "mean       0.251643       0.271562      0.013884      0.508400      0.318500   \n",
       "std        0.118330       0.122460      0.032441      0.282858      0.465918   \n",
       "min        0.000000       0.000000      0.000000      0.000000      0.000000   \n",
       "25%        0.155649       0.182301      0.005091      0.272727      0.000000   \n",
       "50%        0.237657       0.246018      0.007995      0.454545      0.000000   \n",
       "75%        0.325523       0.339823      0.010839      0.727273      1.000000   \n",
       "max        1.000000       1.000000      1.000000      1.000000      1.000000   \n",
       "\n",
       "                day  \n",
       "count  10000.000000  \n",
       "mean       0.493403  \n",
       "std        0.287392  \n",
       "min        0.000000  \n",
       "25%        0.233333  \n",
       "50%        0.500000  \n",
       "75%        0.733333  \n",
       "max        1.000000  \n",
       "\n",
       "[8 rows x 21 columns]"
      ]
     },
     "execution_count": 107,
     "metadata": {},
     "output_type": "execute_result"
    }
   ],
   "source": [
    "df_train.describe()"
   ]
  },
  {
   "cell_type": "code",
   "execution_count": 142,
   "metadata": {},
   "outputs": [],
   "source": [
    "all_info={}"
   ]
  },
  {
   "cell_type": "code",
   "execution_count": 143,
   "metadata": {},
   "outputs": [],
   "source": [
    "import math\n",
    "def calculate_weights_and_sse(df,max_iteration,check_iter_for_explode,lmbda,learning_rate=0.0000001):\n",
    "    \n",
    "    weight = np.array(np.random.randn(1,21)[0])\n",
    "    \n",
    "    number_of_iteration = 0\n",
    "    sse_for_each_iter = [] \n",
    "    norm_for_this_lr = []\n",
    "    while True:\n",
    "        diff_in_y = df.dot(weight)-y_train\n",
    "        \n",
    "        \n",
    "        gradient = (np.transpose(df)).dot(diff_in_y) + 2*lmbda*weight\n",
    "        \n",
    "        weight = weight - learning_rate*gradient \n",
    "        norm_for_gradient = math.sqrt(gradient.dot(gradient))\n",
    "        \n",
    "        sse = (np.transpose(diff_in_y)).dot(diff_in_y) + lmbda*(norm_for_gradient**2)\n",
    "        \n",
    "        \n",
    "        \n",
    "        \n",
    "        \n",
    "        #print('number of iteration',number_of_iteration,norm_for_gradient,'   sse =',sse)\n",
    "        \n",
    "        \n",
    "        sse_for_each_iter.append(sse)\n",
    "        \n",
    "        norm_for_this_lr.append(norm_for_gradient)\n",
    "        \n",
    "        \n",
    "        number_of_iteration = number_of_iteration + 1\n",
    "        \n",
    "        \n",
    "        if(norm_for_gradient<=0.5):\n",
    "            \n",
    "            all_info[lmbda] = {\"whether converged\":True,\n",
    "                               \"weights\":weight,\n",
    "                               \"sse_for_each_iteration\":sse_for_each_iter,\n",
    "                               \"number_of_iteration_used\":number_of_iteration\n",
    "                              }\n",
    "            print(\"########################\")\n",
    "            print(\"number of itertion used for lmbda =\",lmbda , \" is \",number_of_iteration , 'and sse is ' ,sse)\n",
    "            print(\"########################\")\n",
    "            break\n",
    "            \n",
    "            \n",
    "        if(number_of_iteration == check_iter_for_explode and check_explode(norm_for_this_lr)):\n",
    "            \n",
    "            print('Gradient explodes for learning_rate =',learning_rate)\n",
    "            all_info[lmbda] = {\"whether converged\":False,\n",
    "                               \"weights\":np.array(np.zeros(12)),\n",
    "                               \"sse_for_each_iteration\":np.array([-1]*12),\n",
    "                               \"number_of_iteration_used\":number_of_iteration\n",
    "                              }\n",
    "            break\n",
    "            \n",
    "        if(number_of_iteration==max_iteration):\n",
    "    \n",
    "            all_info[lmbda] = {\"whether converged\":True,\n",
    "                               \"weights\":weight,\n",
    "                               \"sse_for_each_iteration\":sse_for_each_iter,\n",
    "                               \"number_of_iteration_used\":number_of_iteration\n",
    "                              }\n",
    "            print(\"converges but takes too many iterations  for lambda =\",lmbda)\n",
    "            break\n",
    "            \n",
    "            \n",
    "        if (number_of_iteration%5000)==0:\n",
    "            print('number of iteration',number_of_iteration,norm_for_gradient,sse)\n",
    "    \n",
    "    print('checked for lambda = ',lmbda,\" now returning\")\n",
    "    return\n",
    "        \n",
    "            \n"
   ]
  },
  {
   "cell_type": "code",
   "execution_count": 150,
   "metadata": {},
   "outputs": [
    {
     "name": "stdout",
     "output_type": "stream",
     "text": [
      "calculating everything for lmbda =  0.001 \n",
      "\n",
      "\n",
      "number of iteration 5000 3953.391108623146 94866.21992209915\n",
      "number of iteration 10000 3070.158008505448 76476.81486105984\n",
      "number of iteration 15000 2454.127470784738 65502.98799012292\n",
      "number of iteration 20000 1999.0736869370403 58549.807360480416\n",
      "number of iteration 25000 1654.389053324791 53971.69073226203\n",
      "number of iteration 30000 1389.0689212703576 50859.72213456328\n",
      "number of iteration 35000 1182.2606822533098 48682.16510989132\n",
      "number of iteration 40000 1019.2534905389226 47116.326075368575\n",
      "number of iteration 45000 889.3757042781946 45960.85953753021\n",
      "number of iteration 50000 784.7590907108071 45087.17129534546\n",
      "number of iteration 55000 699.5483828567017 44411.37665208678\n",
      "number of iteration 60000 629.3622849932688 43877.64091572249\n",
      "number of iteration 65000 570.9094212334195 43448.05710898071\n",
      "number of iteration 70000 521.707427465312 43096.38004649695\n",
      "number of iteration 75000 479.87490297088675 42804.08295862966\n",
      "number of iteration 80000 443.976802669359 42557.836993896286\n",
      "number of iteration 85000 412.9097423048035 42347.875573415324\n",
      "number of iteration 90000 385.81724058388437 42166.916681490955\n",
      "number of iteration 95000 362.02733307132956 42009.44169314308\n",
      "converges but takes too many iterations  for lambda = 0.001\n",
      "checked for lambda =  0.001  now returning\n"
     ]
    }
   ],
   "source": [
    "lmbda_values = [0.001,0.01,0.1,0,1,10,100]\n",
    "for lmb in lmbda_values[:1]:\n",
    "    print('calculating everything for lmbda = ',lmb,'\\n\\n')\n",
    "    calculate_weights_and_sse(df_train,100000,100,lmb)"
   ]
  },
  {
   "cell_type": "code",
   "execution_count": 151,
   "metadata": {},
   "outputs": [
    {
     "name": "stdout",
     "output_type": "stream",
     "text": [
      "calculating everything for lmbda =  0.01 \n",
      "\n",
      "\n",
      "number of iteration 5000 4666.816624672163 302907.1552322915\n",
      "number of iteration 10000 3426.5732150585563 186458.46143740794\n",
      "number of iteration 15000 2628.709836422897 129076.48769014035\n",
      "number of iteration 20000 2066.88629598309 97228.56298687053\n",
      "number of iteration 25000 1657.3890157795715 78534.58094440239\n",
      "number of iteration 30000 1353.6742526554626 67137.20988470822\n",
      "number of iteration 35000 1126.186968927287 59967.25990349583\n",
      "number of iteration 40000 954.6891315745524 55321.75431663274\n",
      "number of iteration 45000 824.6386988783155 52219.927325916506\n",
      "number of iteration 50000 725.2923069694199 50081.995348747485\n",
      "number of iteration 55000 648.6223294662576 48558.32128415069\n",
      "number of iteration 60000 588.6353046119526 47434.49701307612\n",
      "number of iteration 65000 540.8935645351668 46576.99111484759\n",
      "number of iteration 70000 502.14839919464487 45901.34834804996\n",
      "number of iteration 75000 470.0469760139227 45353.27938374704\n",
      "number of iteration 80000 442.8986522207564 44897.26746076563\n",
      "number of iteration 85000 419.4932019929069 44509.62549533512\n",
      "number of iteration 90000 398.9637388607468 44174.22035965555\n",
      "number of iteration 95000 380.68624745335524 43879.81226060978\n",
      "converges but takes too many iterations  for lambda = 0.01\n",
      "checked for lambda =  0.01  now returning\n",
      "calculating everything for lmbda =  0.1 \n",
      "\n",
      "\n",
      "number of iteration 5000 4819.962211891929 2416435.8844847404\n",
      "number of iteration 10000 3677.527484664394 1427847.5761126648\n",
      "number of iteration 15000 2887.92878627315 898746.3328010812\n",
      "number of iteration 20000 2306.5284064761768 590038.1757720907\n",
      "number of iteration 25000 1872.4626102876457 404301.5658121514\n",
      "number of iteration 30000 1546.111319252982 289829.16599484574\n",
      "number of iteration 35000 1299.1301247261022 217542.05334511524\n",
      "number of iteration 40000 1110.7460705667131 170697.17023809694\n",
      "number of iteration 45000 965.599246902963 139484.86124315692\n",
      "number of iteration 50000 852.3207722623415 118067.13731614628\n",
      "number of iteration 55000 762.5345624508221 102916.77439354235\n",
      "number of iteration 60000 690.1169680086808 91869.69829302837\n",
      "number of iteration 65000 630.6271211690956 83576.42940240884\n",
      "number of iteration 70000 580.8641106570394 77180.47772169925\n",
      "number of iteration 75000 538.5265661270003 72127.60772486268\n",
      "number of iteration 80000 501.95667787456256 68051.47737207776\n",
      "number of iteration 85000 469.9523419072625 64704.324381360646\n",
      "number of iteration 90000 441.6322720690797 61914.48329580018\n",
      "number of iteration 95000 416.3407937673375 59560.03368649325\n",
      "converges but takes too many iterations  for lambda = 0.1\n",
      "checked for lambda =  0.1  now returning\n"
     ]
    }
   ],
   "source": [
    "lmbda_values = [0.001,0.01,0.1,0,1,10,100]\n",
    "for lmb in lmbda_values[1:3]:\n",
    "    print('calculating everything for lmbda = ',lmb,'\\n\\n')\n",
    "    calculate_weights_and_sse(df_train,100000,100,lmb)"
   ]
  },
  {
   "cell_type": "code",
   "execution_count": 148,
   "metadata": {},
   "outputs": [
    {
     "name": "stdout",
     "output_type": "stream",
     "text": [
      "calculating everything for lmbda =  1 \n",
      "\n",
      "\n",
      "number of iteration 5000 3850.0948119418767 14900658.282675557\n",
      "number of iteration 10000 2929.785709809465 8649825.87373344\n",
      "number of iteration 15000 2357.623423891707 5617614.645058472\n",
      "number of iteration 20000 1936.2612107421692 3803727.598937871\n",
      "number of iteration 25000 1614.3752205595774 2657669.3012909056\n",
      "number of iteration 30000 1364.8304516164796 1911994.9456908188\n",
      "number of iteration 35000 1169.3240879934826 1414934.4627051463\n",
      "number of iteration 40000 1014.6646274562754 1075955.603118469\n",
      "number of iteration 45000 891.0994211311307 839549.9467794424\n",
      "number of iteration 50000 791.3332777435535 670981.5493019668\n",
      "number of iteration 55000 709.880361361556 548129.6929425572\n",
      "number of iteration 60000 642.6058031992367 456674.9885331249\n",
      "number of iteration 65000 586.3882911419032 387197.59479101864\n",
      "number of iteration 70000 538.8668600341632 333399.1538465037\n",
      "number of iteration 75000 498.24979546798636 290998.04162663524\n",
      "number of iteration 80000 463.170727669272 257034.1689033956\n",
      "number of iteration 85000 432.5808694926658 229426.07158857497\n",
      "number of iteration 90000 405.66881761992477 206685.21008836775\n",
      "number of iteration 95000 381.8011665517486 187729.31558226433\n",
      "converges but takes too many iterations  for lambda = 1\n",
      "checked for lambda =  1  now returning\n",
      "calculating everything for lmbda =  10 \n",
      "\n",
      "\n",
      "number of iteration 5000 4706.11459155437 221568151.62205747\n",
      "number of iteration 10000 3617.2731396423883 130922315.29330994\n",
      "number of iteration 15000 2821.136115553441 79653227.49370821\n",
      "number of iteration 20000 2231.9176089916105 49873105.39102261\n",
      "number of iteration 25000 1793.3421725449907 32215038.708569307\n",
      "number of iteration 30000 1465.426970913255 21526182.977578547\n",
      "number of iteration 35000 1219.0434288071124 14910107.20140356\n",
      "number of iteration 40000 1032.6910107204496 10712518.66867503\n",
      "number of iteration 45000 890.4110438462532 7975265.852932706\n",
      "number of iteration 50000 780.3780105253586 6136026.568537295\n",
      "number of iteration 55000 693.8955975651231 4860389.485776216\n",
      "number of iteration 60000 624.6381952829643 3946679.0926117967\n",
      "number of iteration 65000 568.0554085057954 3271381.3954565357\n",
      "number of iteration 70000 520.9016412357752 2757526.8178267977\n",
      "number of iteration 75000 480.87138519071686 2356197.2416046592\n",
      "number of iteration 80000 446.32480501625344 2035607.620173191\n",
      "number of iteration 85000 416.08753792594536 1774596.9110438835\n",
      "number of iteration 90000 389.3084507027722 1558706.684593951\n",
      "number of iteration 95000 365.360593003546 1377790.7039406803\n",
      "converges but takes too many iterations  for lambda = 10\n",
      "checked for lambda =  10  now returning\n",
      "calculating everything for lmbda =  100 \n",
      "\n",
      "\n",
      "number of iteration 5000 3556.5356250240084 1264967018.966031\n",
      "number of iteration 10000 2367.9016706171165 560759046.5179408\n",
      "number of iteration 15000 1669.1996611934858 278681110.6023904\n",
      "number of iteration 20000 1226.7234916541383 150540604.98710194\n",
      "number of iteration 25000 937.0898324520397 87867547.91651021\n",
      "number of iteration 30000 740.7940385281794 54930253.79704245\n",
      "number of iteration 35000 602.2691317674758 36324704.698476784\n",
      "number of iteration 40000 500.2971313296554 25081065.022267584\n",
      "number of iteration 45000 422.2312982442847 17878869.718305625\n",
      "number of iteration 50000 360.45846568985843 13043675.99505407\n",
      "number of iteration 55000 310.29020958481914 9678421.733222196\n",
      "number of iteration 60000 268.7399794063006 7272364.66670678\n",
      "number of iteration 65000 233.82562333374997 5517553.832706962\n",
      "number of iteration 70000 204.1729225142143 4218662.659391614\n",
      "number of iteration 75000 178.7883001531508 3246444.1780800414\n",
      "number of iteration 80000 156.92609251202197 2512428.854025964\n",
      "number of iteration 85000 138.00896041040545 1954439.4540890653\n",
      "number of iteration 90000 121.57857772907617 1527880.3041882827\n",
      "number of iteration 95000 107.2639280964741 1200261.316914767\n",
      "converges but takes too many iterations  for lambda = 100\n",
      "checked for lambda =  100  now returning\n"
     ]
    }
   ],
   "source": [
    "lmbda_values = [0.001,0.01,0.1,1,10,100]\n",
    "for lmb in lmbda_values[3:6]:\n",
    "    print('calculating everything for lmbda = ',lmb,'\\n\\n')\n",
    "    calculate_weights_and_sse(df_train,100000,100,lmb)"
   ]
  },
  {
   "cell_type": "code",
   "execution_count": 153,
   "metadata": {},
   "outputs": [
    {
     "name": "stdout",
     "output_type": "stream",
     "text": [
      "number of iteration 5000 4243.150229605829 84858.54839396563\n",
      "number of iteration 10000 3293.642007258502 70784.62495467352\n",
      "number of iteration 15000 2631.103319351139 62028.71924793841\n",
      "number of iteration 20000 2130.6351654692376 56369.27308698399\n",
      "number of iteration 25000 1748.722925470233 52612.962923711064\n",
      "number of iteration 30000 1456.4553165527186 50048.846539998325\n",
      "number of iteration 35000 1231.9752565446545 48244.775401440595\n",
      "number of iteration 40000 1058.5183482363175 46935.06922287955\n",
      "number of iteration 45000 923.2757514109747 45954.396166208535\n",
      "number of iteration 50000 816.5541112091834 45198.37864474703\n",
      "number of iteration 55000 731.1069937546567 44599.98557276937\n",
      "number of iteration 60000 661.5840318115103 44115.30657367803\n",
      "number of iteration 65000 604.075168076209 43714.9254191745\n",
      "number of iteration 70000 555.7409535476118 43378.64922669948\n",
      "number of iteration 75000 514.5220707955848 43092.25839368556\n",
      "number of iteration 80000 478.91877674832836 42845.48018066739\n",
      "number of iteration 85000 447.82851240627804 42630.708283544205\n",
      "number of iteration 90000 420.42928891341296 42442.18093625701\n",
      "number of iteration 95000 396.0974911247715 42275.443672688685\n",
      "converges but takes too many iterations  for lambda = 1e-05\n",
      "checked for lambda =  1e-05  now returning\n"
     ]
    }
   ],
   "source": [
    "###Training SSE\n",
    "all_info.keys()\n",
    "calculate_weights_and_sse(df_train,100000,100,0.00001)\n",
    "\n",
    "# for l in lmbda_values:\n",
    "#     data_l = all_info[l]\n",
    "#     sse_value_train=data_l['sse_for_each_iteration']\n",
    "#     length = len(sse_value_train)\n",
    "#     print(\"lambda = \",l,\" and sse = \",sse_value_train[length-1] ,\" for 200000 iterations\")\n"
   ]
  },
  {
   "cell_type": "code",
   "execution_count": 155,
   "metadata": {},
   "outputs": [
    {
     "name": "stdout",
     "output_type": "stream",
     "text": [
      "number of iteration 5000 4827.788623297959 94592.61469582534\n",
      "number of iteration 10000 3681.867468079248 75676.19162278641\n",
      "number of iteration 15000 2855.9649389844135 64536.47628575211\n",
      "number of iteration 20000 2252.776152337358 57752.08757090865\n",
      "number of iteration 25000 1808.1237828847595 53477.324249819896\n",
      "number of iteration 30000 1477.8643862616598 50686.72012986799\n",
      "number of iteration 35000 1230.9507983774254 48796.27844690202\n",
      "number of iteration 40000 1045.1280853954513 47465.8115758571\n",
      "number of iteration 45000 904.1942100306545 46492.91339779663\n",
      "number of iteration 50000 796.2378644152137 45754.68452867197\n",
      "number of iteration 55000 712.4771273145049 45174.988216534475\n",
      "number of iteration 60000 646.458405822714 44705.681934085915\n",
      "number of iteration 65000 593.4722658215547 44315.6657789068\n",
      "number of iteration 70000 550.1090177999284 43984.38805779545\n",
      "number of iteration 75000 513.9154781902178 43697.936242040574\n",
      "number of iteration 80000 483.1320836148171 43446.65052412926\n",
      "number of iteration 85000 456.49564933159473 43223.6464395616\n",
      "number of iteration 90000 433.0947935865609 43023.88715424604\n",
      "number of iteration 95000 412.2661449840231 42843.592153797785\n",
      "converges but takes too many iterations  for lambda = 0.0001\n",
      "checked for lambda =  0.0001  now returning\n"
     ]
    }
   ],
   "source": [
    "\n",
    "calculate_weights_and_sse(df_train,100000,100,0.0001)\n"
   ]
  },
  {
   "cell_type": "code",
   "execution_count": 154,
   "metadata": {},
   "outputs": [
    {
     "data": {
      "text/plain": [
       "dict_keys([0.01, 0.1, 0.001, 1, 10, 100, 1e-05])"
      ]
     },
     "execution_count": 154,
     "metadata": {},
     "output_type": "execute_result"
    }
   ],
   "source": [
    "all_info.keys()"
   ]
  },
  {
   "cell_type": "code",
   "execution_count": 183,
   "metadata": {},
   "outputs": [],
   "source": [
    "lmbda_values = [0.001, 0.01, 0.1, 1, 10, 100]"
   ]
  },
  {
   "cell_type": "code",
   "execution_count": null,
   "metadata": {},
   "outputs": [],
   "source": []
  },
  {
   "cell_type": "code",
   "execution_count": 184,
   "metadata": {},
   "outputs": [
    {
     "name": "stdout",
     "output_type": "stream",
     "text": [
      "100000\n",
      "100000\n",
      "21\n",
      "21\n",
      "100000\n",
      "100000\n",
      "21\n",
      "21\n",
      "100000\n",
      "100000\n",
      "21\n",
      "21\n",
      "100000\n",
      "100000\n",
      "21\n",
      "21\n",
      "100000\n",
      "100000\n",
      "21\n",
      "21\n",
      "100000\n",
      "100000\n",
      "21\n",
      "21\n"
     ]
    }
   ],
   "source": [
    "for lmbda in lmbda_values:\n",
    "    sse_values = all_info[lmbda]['sse_for_each_iteration']\n",
    "    l = len(sse_values)\n",
    "    print(l)\n",
    "    iteration = np.array([x for x in range(1,l+1)])\n",
    "    print(len(iteration))\n",
    "    output = pd.DataFrame({'sse': all_info[lmbda]['sse_for_each_iteration'],'iteration':iteration})\n",
    "    name = 'sse_regular_'+ str(lmbda) + '.csv'\n",
    "    output.to_csv(name, index=False)\n",
    "    weight_values = all_info[lmbda]['weights']\n",
    "    print(len(weight_values))\n",
    "    itera = np.array([x for x in range(1,22)])\n",
    "    print(len(itera))\n",
    "    output = pd.DataFrame({'weight': all_info[lmbda]['weights'],'feature':itera})\n",
    "    name = 'weight_regular_'+ str(lmbda) + '.csv'\n",
    "    output.to_csv(name, index=False)"
   ]
  },
  {
   "cell_type": "code",
   "execution_count": 165,
   "metadata": {},
   "outputs": [],
   "source": [
    "df_validation = main_df_val\n",
    "y_validation = df_validation['price']\n",
    "df_validation = df_validation.drop(['id','dummy','price'],1)\n",
    "df_validation['date'] = pd.to_datetime(main_df_val['date'])\n",
    "df_validation['month'] = df_validation['date'].apply(lambda x:x.month)\n",
    "df_validation['year'] =  df_validation['date'].apply(lambda x:x.year)\n",
    "df_validation['day'] = df_validation['date'].apply(lambda x:x.day)\n",
    "df_validation = df_validation.drop(['date'],1)\n"
   ]
  },
  {
   "cell_type": "code",
   "execution_count": 166,
   "metadata": {},
   "outputs": [
    {
     "data": {
      "text/plain": [
       "(5597, 21)"
      ]
     },
     "execution_count": 166,
     "metadata": {},
     "output_type": "execute_result"
    }
   ],
   "source": [
    "df_validation.shape"
   ]
  },
  {
   "cell_type": "code",
   "execution_count": 167,
   "metadata": {},
   "outputs": [
    {
     "data": {
      "text/plain": [
       "Index(['bedrooms', 'bathrooms', 'sqft_living', 'sqft_lot', 'floors',\n",
       "       'waterfront', 'view', 'condition', 'grade', 'sqft_above',\n",
       "       'sqft_basement', 'yr_built', 'yr_renovated', 'zipcode', 'lat', 'long',\n",
       "       'sqft_living15', 'sqft_lot15', 'month', 'year', 'day'],\n",
       "      dtype='object')"
      ]
     },
     "execution_count": 167,
     "metadata": {},
     "output_type": "execute_result"
    }
   ],
   "source": [
    "df_validation.columns"
   ]
  },
  {
   "cell_type": "code",
   "execution_count": 175,
   "metadata": {},
   "outputs": [
    {
     "name": "stdout",
     "output_type": "stream",
     "text": [
      "For lambda =  1e-05  the training sse is =  41965.42201510622  whereas the validation sse is  24466.218059246465\n",
      "For lambda =  0.0001  the training sse is =  42519.743461199556  whereas the validation sse is  24828.419234048302\n",
      "For lambda =  0.001  the training sse is =  41704.0184368273  whereas the validation sse is  24244.094722420006\n",
      "For lambda =  0.01  the training sse is =  43449.19075386196  whereas the validation sse is  24481.53636907484\n",
      "For lambda =  0.1  the training sse is =  57392.604142810436  whereas the validation sse is  24642.476095379345\n",
      "For lambda =  1  the training sse is =  171593.20981683955  whereas the validation sse is  24875.30910548208\n",
      "For lambda =  10  the training sse is =  1224391.9274490618  whereas the validation sse is  26258.722770973047\n",
      "For lambda =  100  the training sse is =  947542.5421394401  whereas the validation sse is  29643.98732255047\n"
     ]
    }
   ],
   "source": [
    "training_x =[]\n",
    "testing_x = []\n",
    "for feature in df_validation.columns:\n",
    "    mn = df_validation[feature].min()\n",
    "    mx = df_validation[feature].max()\n",
    "    df_validation[feature] = df_validation[feature].apply(lambda x:((x-mn)/(mx-mn)))\n",
    "\n",
    "def calculate_sse_for_diff_lambda(weight):\n",
    "    diff_in_y = df_validation.dot(weight)-y_validation\n",
    "    error = (np.transpose(diff_in_y)).dot(diff_in_y)\n",
    "    return error\n",
    "    \n",
    "lambda_values = [0.00001,0.0001,0.001,0.01,0.1,1,10,100]\n",
    "for lmbda in lambda_values:\n",
    "    info = all_info[lmbda]\n",
    "    weights = np.array(info['weights'])\n",
    "    sse_all = info['sse_for_each_iteration']\n",
    "    training_sse = sse_all[len(sse_all)-1] - weights.dot(weights)\n",
    "    training_x.append(training_sse)\n",
    "    c = calculate_sse_for_diff_lambda(weights)\n",
    "    testing_x.append(c)\n",
    "    print('For lambda = ',lmbda , ' the training sse is = ',training_sse,' whereas the validation sse is '\n",
    "         \n",
    "         ,c)\n",
    "    \n",
    "    \n",
    "        \n"
   ]
  },
  {
   "cell_type": "code",
   "execution_count": 176,
   "metadata": {},
   "outputs": [],
   "source": [
    "#Log scale variation with respect to lambda"
   ]
  },
  {
   "cell_type": "code",
   "execution_count": 177,
   "metadata": {},
   "outputs": [
    {
     "data": {
      "text/plain": [
       "<matplotlib.axes._subplots.AxesSubplot at 0x1974f288438>"
      ]
     },
     "execution_count": 177,
     "metadata": {},
     "output_type": "execute_result"
    },
    {
     "data": {
      "image/png": "[encoded data removed]",
      "text/plain": [
       "<Figure size 432x288 with 1 Axes>"
      ]
     },
     "metadata": {},
     "output_type": "display_data"
    }
   ],
   "source": [
    "sns.lineplot(y=training_x,x=[-5,-4,-3,-2,-1,0,1,2])"
   ]
  },
  {
   "cell_type": "code",
   "execution_count": 178,
   "metadata": {},
   "outputs": [
    {
     "data": {
      "text/plain": [
       "<matplotlib.axes._subplots.AxesSubplot at 0x1974f30f128>"
      ]
     },
     "execution_count": 178,
     "metadata": {},
     "output_type": "execute_result"
    },
    {
     "data": {
      "image/png": "[encoded data removed]",
      "text/plain": [
       "<Figure size 432x288 with 1 Axes>"
      ]
     },
     "metadata": {},
     "output_type": "display_data"
    }
   ],
   "source": [
    "sns.lineplot(y=testing_x,x=[-5,-4,-3,-2,-1,0,1,2])"
   ]
  },
  {
   "cell_type": "markdown",
   "metadata": {},
   "source": [
    "`#Thus for lambda = 0.001 minimum SSE is observed  `"
   ]
  },
  {
   "cell_type": "code",
   "execution_count": 185,
   "metadata": {},
   "outputs": [
    {
     "data": {
      "text/plain": [
       "Index(['bedrooms', 'bathrooms', 'sqft_living', 'sqft_lot', 'floors',\n",
       "       'waterfront', 'view', 'condition', 'grade', 'sqft_above',\n",
       "       'sqft_basement', 'yr_built', 'yr_renovated', 'zipcode', 'lat', 'long',\n",
       "       'sqft_living15', 'sqft_lot15', 'month', 'year', 'day'],\n",
       "      dtype='object')"
      ]
     },
     "execution_count": 185,
     "metadata": {},
     "output_type": "execute_result"
    }
   ],
   "source": [
    "df_train.columns"
   ]
  },
  {
   "cell_type": "code",
   "execution_count": 186,
   "metadata": {},
   "outputs": [
    {
     "data": {
      "text/plain": [
       "bedrooms         0.333747\n",
       "bathrooms        3.250678\n",
       "sqft_living      4.820770\n",
       "sqft_lot         0.033134\n",
       "floors           1.108012\n",
       "waterfront       2.259873\n",
       "view             3.413060\n",
       "condition        0.275100\n",
       "grade            7.240978\n",
       "sqft_above       4.114920\n",
       "sqft_basement    1.268317\n",
       "yr_built        -3.264497\n",
       "yr_renovated     0.325164\n",
       "zipcode         -1.285211\n",
       "lat              3.354221\n",
       "long            -2.358106\n",
       "sqft_living15    3.762486\n",
       "sqft_lot15      -0.131697\n",
       "month           -0.761713\n",
       "year            -0.154484\n",
       "day             -0.481151\n",
       "dtype: float64"
      ]
     },
     "execution_count": 186,
     "metadata": {},
     "output_type": "execute_result"
    }
   ],
   "source": [
    "all_info[0.001]['weights']"
   ]
  },
  {
   "cell_type": "code",
   "execution_count": 187,
   "metadata": {},
   "outputs": [],
   "source": [
    "# We see that the |w| is very less for features: bedrooms , sqft_lot , condition ,yr_renovated , year , day ,sqft_lot15"
   ]
  },
  {
   "cell_type": "code",
   "execution_count": 189,
   "metadata": {},
   "outputs": [],
   "source": [
    "#these features contribute least . Features with large positive w increse the price more than others for small \n",
    "#increase in their own values. For negative w's it's just the opposite\n"
   ]
  },
  {
   "cell_type": "code",
   "execution_count": 190,
   "metadata": {},
   "outputs": [],
   "source": [
    "#The validation sse slightly decreses around 0.001 and 0.01 and then shoots to a large value for lambda = 100 .\n",
    "#Its shown in the graph"
   ]
  },
  {
   "cell_type": "code",
   "execution_count": 191,
   "metadata": {},
   "outputs": [],
   "source": [
    "#For large values of lambda the model overfits and hence the sse for validations shoots high while training sse still remains\n",
    "#close to other values"
   ]
  },
  {
   "cell_type": "code",
   "execution_count": 192,
   "metadata": {},
   "outputs": [
    {
     "data": {
      "text/plain": [
       "bedrooms         1.661162\n",
       "bathrooms        3.417870\n",
       "sqft_living      5.236076\n",
       "sqft_lot        -0.923248\n",
       "floors           1.208596\n",
       "waterfront       2.330987\n",
       "view             3.159152\n",
       "condition        0.193550\n",
       "grade            5.519379\n",
       "sqft_above       5.825953\n",
       "sqft_basement    1.724561\n",
       "yr_built        -3.460527\n",
       "yr_renovated     0.189985\n",
       "zipcode         -0.989929\n",
       "lat              3.323527\n",
       "long            -1.361451\n",
       "sqft_living15    3.835036\n",
       "sqft_lot15      -0.837677\n",
       "month           -0.794102\n",
       "year            -0.178518\n",
       "day             -0.476231\n",
       "dtype: float64"
      ]
     },
     "execution_count": 192,
     "metadata": {},
     "output_type": "execute_result"
    }
   ],
   "source": [
    "all_info[0.01]['weights']"
   ]
  },
  {
   "cell_type": "code",
   "execution_count": 194,
   "metadata": {},
   "outputs": [],
   "source": [
    "#day , year , month , condition approach zero contribution"
   ]
  },
  {
   "cell_type": "code",
   "execution_count": 193,
   "metadata": {},
   "outputs": [
    {
     "data": {
      "text/plain": [
       "bedrooms        -0.777466\n",
       "bathrooms        2.311313\n",
       "sqft_living      5.328734\n",
       "sqft_lot         0.141402\n",
       "floors           1.599251\n",
       "waterfront       1.736437\n",
       "view             3.316684\n",
       "condition        0.366504\n",
       "grade            5.572033\n",
       "sqft_above       4.357860\n",
       "sqft_basement    2.049118\n",
       "yr_built        -2.859027\n",
       "yr_renovated     0.395000\n",
       "zipcode         -1.154453\n",
       "lat              3.375116\n",
       "long            -1.845189\n",
       "sqft_living15    3.890174\n",
       "sqft_lot15       0.793149\n",
       "month           -0.614438\n",
       "year            -0.088270\n",
       "day             -0.440671\n",
       "dtype: float64"
      ]
     },
     "execution_count": 193,
     "metadata": {},
     "output_type": "execute_result"
    }
   ],
   "source": [
    "all_info[10]['weights']"
   ]
  },
  {
   "cell_type": "code",
   "execution_count": null,
   "metadata": {},
   "outputs": [],
   "source": [
    "#bedrooms , yr_renovated , condition , year , day , sqft_lot approach zero contribution"
   ]
  }
 ],
 "metadata": {
  "kernelspec": {
   "display_name": "Python 3",
   "language": "python",
   "name": "python3"
  },
  "language_info": {
   "codemirror_mode": {
    "name": "ipython",
    "version": 3
   },
   "file_extension": ".py",
   "mimetype": "text/x-python",
   "name": "python",
   "nbconvert_exporter": "python",
   "pygments_lexer": "ipython3",
   "version": "3.6.5"
  }
 },
 "nbformat": 4,
 "nbformat_minor": 2
}
